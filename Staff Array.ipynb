{
 "cells": [
  {
   "cell_type": "code",
   "execution_count": 3,
   "metadata": {},
   "outputs": [],
   "source": [
    "import random\n",
    "\n",
    "first = open(\"assets/staff/first.txt\", \"r\")\n",
    "first = first.read().split('\\n')\n",
    "\n",
    "last = open(\"assets/staff/last.txt\", \"r\")\n",
    "last = last.read().split('\\n')"
   ]
  },
  {
   "cell_type": "code",
   "execution_count": 2,
   "metadata": {
    "scrolled": true
   },
   "outputs": [],
   "source": [
    "first = random.choice(first)\n",
    "last = random.choice(last)"
   ]
  },
  {
   "cell_type": "code",
   "execution_count": 3,
   "metadata": {},
   "outputs": [],
   "source": [
    "StaffShopArray = {'Finance':[],'War':[], 'tech':[], 'politics':[]}"
   ]
  },
  {
   "cell_type": "code",
   "execution_count": 4,
   "metadata": {},
   "outputs": [
    {
     "ename": "NameError",
     "evalue": "name 'profession' is not defined",
     "output_type": "error",
     "traceback": [
      "\u001b[0;31m---------------------------------------------------------------------------\u001b[0m",
      "\u001b[0;31mNameError\u001b[0m                                 Traceback (most recent call last)",
      "\u001b[0;32m<ipython-input-4-5a64549ce0ab>\u001b[0m in \u001b[0;36m<module>\u001b[0;34m\u001b[0m\n\u001b[0;32m----> 1\u001b[0;31m \u001b[0;34m[\u001b[0m\u001b[0mprofession\u001b[0m\u001b[0;34m,\u001b[0m\u001b[0mname\u001b[0m\u001b[0;34m,\u001b[0m\u001b[0mlevel\u001b[0m\u001b[0;34m]\u001b[0m\u001b[0;34m\u001b[0m\u001b[0;34m\u001b[0m\u001b[0m\n\u001b[0m",
      "\u001b[0;31mNameError\u001b[0m: name 'profession' is not defined"
     ]
    }
   ],
   "source": [
    "[profession,name,level]"
   ]
  },
  {
   "cell_type": "code",
   "execution_count": 5,
   "metadata": {},
   "outputs": [
    {
     "ename": "SyntaxError",
     "evalue": "unexpected EOF while parsing (<ipython-input-5-f4b748ee30f6>, line 3)",
     "output_type": "error",
     "traceback": [
      "\u001b[0;36m  File \u001b[0;32m\"<ipython-input-5-f4b748ee30f6>\"\u001b[0;36m, line \u001b[0;32m3\u001b[0m\n\u001b[0;31m    \u001b[0m\n\u001b[0m    ^\u001b[0m\n\u001b[0;31mSyntaxError\u001b[0m\u001b[0;31m:\u001b[0m unexpected EOF while parsing\n"
     ]
    }
   ],
   "source": [
    "title = ['Doctor','Professor',]\n",
    "for x in range(0,1000):\n"
   ]
  },
  {
   "cell_type": "code",
   "execution_count": 43,
   "metadata": {},
   "outputs": [
    {
     "ename": "NameError",
     "evalue": "name 'knowledge' is not defined",
     "output_type": "error",
     "traceback": [
      "\u001b[0;31m---------------------------------------------------------------------------\u001b[0m",
      "\u001b[0;31mNameError\u001b[0m                                 Traceback (most recent call last)",
      "\u001b[0;32m<ipython-input-43-c0cc40c24785>\u001b[0m in \u001b[0;36m<module>\u001b[0;34m\u001b[0m\n\u001b[1;32m     70\u001b[0m     \u001b[0;32mreturn\u001b[0m\u001b[0;34m(\u001b[0m\u001b[0mNATION_ARRAY\u001b[0m\u001b[0;34m)\u001b[0m\u001b[0;34m\u001b[0m\u001b[0;34m\u001b[0m\u001b[0m\n\u001b[1;32m     71\u001b[0m \u001b[0;34m\u001b[0m\u001b[0m\n\u001b[0;32m---> 72\u001b[0;31m \u001b[0mNATION_ARRAY\u001b[0m\u001b[0;34m=\u001b[0m \u001b[0msetVariables\u001b[0m\u001b[0;34m(\u001b[0m\u001b[0;34m)\u001b[0m\u001b[0;34m\u001b[0m\u001b[0;34m\u001b[0m\u001b[0m\n\u001b[0m",
      "\u001b[0;32m<ipython-input-43-c0cc40c24785>\u001b[0m in \u001b[0;36msetVariables\u001b[0;34m()\u001b[0m\n\u001b[1;32m     41\u001b[0m         \u001b[0mnation\u001b[0m\u001b[0;34m[\u001b[0m\u001b[0;36m0\u001b[0m\u001b[0;34m]\u001b[0m\u001b[0;34m[\u001b[0m\u001b[0;34m'War'\u001b[0m\u001b[0;34m]\u001b[0m      \u001b[0;34m=\u001b[0m \u001b[0;34m{\u001b[0m\u001b[0;34m'might'\u001b[0m\u001b[0;34m:\u001b[0m \u001b[0mmight\u001b[0m\u001b[0;34m,\u001b[0m    \u001b[0;34m'level'\u001b[0m\u001b[0;34m:\u001b[0m \u001b[0;34m'Private'\u001b[0m\u001b[0;34m,\u001b[0m \u001b[0;34m'weapons'\u001b[0m\u001b[0;34m:\u001b[0m\u001b[0;34m{\u001b[0m\u001b[0;34m'troops'\u001b[0m\u001b[0;34m:\u001b[0m\u001b[0mtroops\u001b[0m\u001b[0;34m,\u001b[0m\u001b[0;34m'tanks'\u001b[0m\u001b[0;34m:\u001b[0m\u001b[0;36m0\u001b[0m\u001b[0;34m,\u001b[0m\u001b[0;34m'gunboats'\u001b[0m\u001b[0;34m:\u001b[0m\u001b[0;36m0\u001b[0m\u001b[0;34m,\u001b[0m\u001b[0;34m'destroyers'\u001b[0m\u001b[0;34m:\u001b[0m\u001b[0;36m0\u001b[0m\u001b[0;34m,\u001b[0m\u001b[0;34m'carriers'\u001b[0m\u001b[0;34m:\u001b[0m\u001b[0;36m0\u001b[0m\u001b[0;34m,\u001b[0m\u001b[0;34m'jets'\u001b[0m\u001b[0;34m:\u001b[0m\u001b[0;36m0\u001b[0m\u001b[0;34m,\u001b[0m\u001b[0;34m'bombers'\u001b[0m\u001b[0;34m:\u001b[0m\u001b[0;36m0\u001b[0m\u001b[0;34m,\u001b[0m\u001b[0;34m'Nukes'\u001b[0m\u001b[0;34m:\u001b[0m\u001b[0;36m0\u001b[0m\u001b[0;34m}\u001b[0m\u001b[0;34m,\u001b[0m \u001b[0;34m'firePower'\u001b[0m\u001b[0;34m:\u001b[0m\u001b[0;36m0\u001b[0m\u001b[0;34m}\u001b[0m\u001b[0;34m\u001b[0m\u001b[0;34m\u001b[0m\u001b[0m\n\u001b[1;32m     42\u001b[0m         \u001b[0;31m#nation[0]['War']      = {'might': might,    'level': 'Private', 'weapons':{one:troops,two:0,three:0,four:0,five:0,six:0,seven:0,eight:0}, 'firePower':0}\u001b[0m\u001b[0;34m\u001b[0m\u001b[0;34m\u001b[0m\u001b[0;34m\u001b[0m\u001b[0m\n\u001b[0;32m---> 43\u001b[0;31m         \u001b[0mnation\u001b[0m\u001b[0;34m[\u001b[0m\u001b[0;36m0\u001b[0m\u001b[0;34m]\u001b[0m\u001b[0;34m[\u001b[0m\u001b[0;34m'Tech'\u001b[0m\u001b[0;34m]\u001b[0m     \u001b[0;34m=\u001b[0m \u001b[0;34m{\u001b[0m\u001b[0;34m'knowledge'\u001b[0m \u001b[0;34m:\u001b[0m \u001b[0;36m0\u001b[0m\u001b[0;34m,\u001b[0m\u001b[0;34m'level'\u001b[0m\u001b[0;34m:\u001b[0m \u001b[0mknowledge\u001b[0m\u001b[0;34m,\u001b[0m\u001b[0;34m'era'\u001b[0m\u001b[0;34m:\u001b[0m \u001b[0;34m'INDUSTRIAL REVOLUTION'\u001b[0m\u001b[0;34m,\u001b[0m\u001b[0;34m'research points'\u001b[0m\u001b[0;34m:\u001b[0m \u001b[0;36m0\u001b[0m\u001b[0;34m,\u001b[0m \u001b[0;34m'researched'\u001b[0m\u001b[0;34m:\u001b[0m\u001b[0;34m{\u001b[0m\u001b[0;34m'one'\u001b[0m\u001b[0;34m:\u001b[0m\u001b[0;34m[\u001b[0m\u001b[0;36m0\u001b[0m\u001b[0;34m,\u001b[0m\u001b[0;34m''\u001b[0m\u001b[0;34m]\u001b[0m\u001b[0;34m,\u001b[0m\u001b[0;34m'two'\u001b[0m\u001b[0;34m:\u001b[0m\u001b[0;34m[\u001b[0m\u001b[0;36m0\u001b[0m\u001b[0;34m,\u001b[0m\u001b[0;34m''\u001b[0m\u001b[0;34m]\u001b[0m\u001b[0;34m,\u001b[0m\u001b[0;34m'three'\u001b[0m\u001b[0;34m:\u001b[0m\u001b[0;34m[\u001b[0m\u001b[0;36m0\u001b[0m\u001b[0;34m,\u001b[0m\u001b[0;34m''\u001b[0m\u001b[0;34m]\u001b[0m\u001b[0;34m,\u001b[0m\u001b[0;34m'four'\u001b[0m\u001b[0;34m:\u001b[0m\u001b[0;34m[\u001b[0m\u001b[0;36m0\u001b[0m\u001b[0;34m,\u001b[0m\u001b[0;34m''\u001b[0m\u001b[0;34m]\u001b[0m\u001b[0;34m,\u001b[0m\u001b[0;34m'five'\u001b[0m\u001b[0;34m:\u001b[0m\u001b[0;34m[\u001b[0m\u001b[0;36m0\u001b[0m\u001b[0;34m,\u001b[0m\u001b[0;34m''\u001b[0m\u001b[0;34m]\u001b[0m\u001b[0;34m}\u001b[0m\u001b[0;34m,\u001b[0m \u001b[0;34m'assets'\u001b[0m\u001b[0;34m:\u001b[0m\u001b[0;34m{\u001b[0m\u001b[0;34m'universities'\u001b[0m\u001b[0;34m:\u001b[0m\u001b[0;36m0\u001b[0m\u001b[0;34m,\u001b[0m\u001b[0;34m'techHubs'\u001b[0m\u001b[0;34m:\u001b[0m\u001b[0;36m0\u001b[0m\u001b[0;34m,\u001b[0m\u001b[0;34m'scientists'\u001b[0m\u001b[0;34m:\u001b[0m\u001b[0;36m0\u001b[0m\u001b[0;34m,\u001b[0m\u001b[0;34m'engineers'\u001b[0m\u001b[0;34m:\u001b[0m\u001b[0;36m0\u001b[0m\u001b[0;34m,\u001b[0m\u001b[0;34m'mathematicians'\u001b[0m\u001b[0;34m:\u001b[0m\u001b[0;36m0\u001b[0m\u001b[0;34m,\u001b[0m\u001b[0;34m'entrepreneurs'\u001b[0m\u001b[0;34m:\u001b[0m\u001b[0;36m0\u001b[0m\u001b[0;34m}\u001b[0m\u001b[0;34m,\u001b[0m \u001b[0;34m'prestigue'\u001b[0m\u001b[0;34m:\u001b[0m\u001b[0;36m0\u001b[0m\u001b[0;34m}\u001b[0m\u001b[0;34m\u001b[0m\u001b[0;34m\u001b[0m\u001b[0m\n\u001b[0m\u001b[1;32m     44\u001b[0m         \u001b[0mnation\u001b[0m\u001b[0;34m[\u001b[0m\u001b[0;36m0\u001b[0m\u001b[0;34m]\u001b[0m\u001b[0;34m[\u001b[0m\u001b[0;34m'Politics'\u001b[0m\u001b[0;34m]\u001b[0m \u001b[0;34m=\u001b[0m \u001b[0;34m{\u001b[0m\u001b[0;34m'influence'\u001b[0m\u001b[0;34m:\u001b[0m\u001b[0;36m0\u001b[0m\u001b[0;34m,\u001b[0m \u001b[0;34m'stability'\u001b[0m\u001b[0;34m:\u001b[0m\u001b[0;36m0\u001b[0m\u001b[0;34m,\u001b[0m \u001b[0;34m'backing'\u001b[0m\u001b[0;34m:\u001b[0m\u001b[0;36m0\u001b[0m\u001b[0;34m}\u001b[0m\u001b[0;34m\u001b[0m\u001b[0;34m\u001b[0m\u001b[0m\n\u001b[1;32m     45\u001b[0m         \u001b[0mnation\u001b[0m\u001b[0;34m[\u001b[0m\u001b[0;36m0\u001b[0m\u001b[0;34m]\u001b[0m\u001b[0;34m[\u001b[0m\u001b[0;34m'Special'\u001b[0m\u001b[0;34m]\u001b[0m  \u001b[0;34m=\u001b[0m \u001b[0;34m{\u001b[0m\u001b[0;34m'chance'\u001b[0m\u001b[0;34m:\u001b[0m \u001b[0;36m0\u001b[0m\u001b[0;34m,\u001b[0m \u001b[0;34m'moveLimit'\u001b[0m\u001b[0;34m:\u001b[0m\u001b[0;36m2\u001b[0m\u001b[0;34m,\u001b[0m \u001b[0;34m'aggression'\u001b[0m\u001b[0;34m:\u001b[0m\u001b[0mrandom\u001b[0m\u001b[0;34m.\u001b[0m\u001b[0mrandint\u001b[0m\u001b[0;34m(\u001b[0m\u001b[0;36m0\u001b[0m\u001b[0;34m,\u001b[0m\u001b[0;36m100\u001b[0m\u001b[0;34m)\u001b[0m\u001b[0;34m,\u001b[0m \u001b[0;34m'creativity'\u001b[0m\u001b[0;34m:\u001b[0m\u001b[0mrandom\u001b[0m\u001b[0;34m.\u001b[0m\u001b[0mrandint\u001b[0m\u001b[0;34m(\u001b[0m\u001b[0;36m0\u001b[0m\u001b[0;34m,\u001b[0m\u001b[0;36m100\u001b[0m\u001b[0;34m)\u001b[0m\u001b[0;34m,\u001b[0m \u001b[0;34m'materialism'\u001b[0m\u001b[0;34m:\u001b[0m\u001b[0mrandom\u001b[0m\u001b[0;34m.\u001b[0m\u001b[0mrandint\u001b[0m\u001b[0;34m(\u001b[0m\u001b[0;36m0\u001b[0m\u001b[0;34m,\u001b[0m\u001b[0;36m100\u001b[0m\u001b[0;34m)\u001b[0m\u001b[0;34m,\u001b[0m \u001b[0;34m'prudence'\u001b[0m\u001b[0;34m:\u001b[0m\u001b[0mrandom\u001b[0m\u001b[0;34m.\u001b[0m\u001b[0mrandint\u001b[0m\u001b[0;34m(\u001b[0m\u001b[0;36m0\u001b[0m\u001b[0;34m,\u001b[0m\u001b[0;36m100\u001b[0m\u001b[0;34m)\u001b[0m\u001b[0;34m,\u001b[0m \u001b[0;34m'bonusUnits'\u001b[0m\u001b[0;34m:\u001b[0m \u001b[0;34m[\u001b[0m\u001b[0;34m]\u001b[0m\u001b[0;34m,\u001b[0m \u001b[0;34m'notes'\u001b[0m\u001b[0;34m:\u001b[0m \u001b[0;34m[\u001b[0m\u001b[0;34m]\u001b[0m\u001b[0;34m}\u001b[0m\u001b[0;34m\u001b[0m\u001b[0;34m\u001b[0m\u001b[0m\n",
      "\u001b[0;31mNameError\u001b[0m: name 'knowledge' is not defined"
     ]
    }
   ],
   "source": [
    "def setVariables():\n",
    "    NATION_ARRAY = []\n",
    "    USA = {}\n",
    "    UK = {}\n",
    "    CHINA  = {}\n",
    "    INDIA = {}\n",
    "    RUSSIA  = {}\n",
    "    GERMANY = {}\n",
    "    ITALY = {}\n",
    "    SPAIN  = {}\n",
    "    FRANCE = {}\n",
    "    JAPAN = {}\n",
    "    BRAZIL = {}\n",
    "    SOUTHKOREA = {}\n",
    "    SOUTHAFRICA = {}\n",
    "    PAKISTAN = {}\n",
    "    INDONESIA = {}\n",
    "    NIGERIA = {}\n",
    "    MEXICO = {}\n",
    "    EGYPT = {}\n",
    "    VIETNAM = {}\n",
    "    IRAN = {}\n",
    "    KENYA = {}\n",
    "    NATION_ARRAY = [[USA,'USA'],[UK,'UK'],[GERMANY,'GERMANY'],[CHINA,'CHINA'],[INDIA,'INDIA'],[RUSSIA,'RUSSIA'],[ITALY,'ITALY'],[SPAIN,'SPAIN'],[FRANCE,'FRANCE'],[JAPAN,'JAPAN'],[BRAZIL,'BRAZIL'],[SOUTHKOREA,'SOUTHKOREA'],[SOUTHAFRICA,'SOUTHAFRICA'],[PAKISTAN,'PAKISTAN'],[INDONESIA,'INDONESIA'],[NIGERIA,'NIGERIA'],[MEXICO,'MEXICO'],[EGYPT,'EGYPT'],[VIETNAM,'VIETNAM'],[IRAN,'IRAN'],[KENYA,'KENYA']]\n",
    "\n",
    "    score        = 100\n",
    "    wealth       = 500 \n",
    "    gems         = 5\n",
    "    raremetals   = 0\n",
    "    oil          = 0\n",
    "    might        = 100  \n",
    "    troops       = 500\n",
    "    aggression   = 0 \n",
    "\n",
    "\n",
    "\n",
    "    for nation in NATION_ARRAY:\n",
    "        nation[0]['Score']    = score \n",
    "        nation[0]['Finance']  = {'wealth': wealth, 'level': 'PickPocket', 'gold':60, 'gems':gems, 'raremetals':raremetals,  'oil':oil,}\n",
    "        # Add drones, robots, etc later\n",
    "        nation[0]['War']      = {'might': might,    'level': 'Private', 'weapons':{'troops':troops,'tanks':0,'gunboats':0,'destroyers':0,'carriers':0,'jets':0,'bombers':0,'Nukes':0}, 'firePower':0}\n",
    "        #nation[0]['War']      = {'might': might,    'level': 'Private', 'weapons':{one:troops,two:0,three:0,four:0,five:0,six:0,seven:0,eight:0}, 'firePower':0}\n",
    "        nation[0]['Tech']     = {'knowledge' : 0,'level': 0,'era': 'INDUSTRIAL REVOLUTION','research points': 0, 'researched':{'one':[0,''],'two':[0,''],'three':[0,''],'four':[0,''],'five':[0,'']}, 'assets':{'universities':0,'techHubs':0,'scientists':0,'engineers':0,'mathematicians':0,'entrepreneurs':0}, 'prestigue':0}\n",
    "        nation[0]['Politics'] = {'influence':0, 'stability':0, 'backing':0}\n",
    "        nation[0]['Special']  = {'chance': 0, 'moveLimit':2, 'aggression':random.randint(0,100), 'creativity':random.randint(0,100), 'materialism':random.randint(0,100), 'prudence':random.randint(0,100), 'bonusUnits': [], 'notes': []}\n",
    "\n",
    "        nation[0]['Friendship'] = {}\n",
    "        for state in NATION_ARRAY:\n",
    "            friendship = random.randint(-5,50)\n",
    "            if nation[1] != state[1]:\n",
    "                nation[0]['Friendship'][state[1]] = {'level': friendship,'warDate': 0,'initiated': 0,'noWars': 0,'declared': 0,'attacked': 0,'lost': 0,'won': 0}\n",
    "\n",
    "        nation[0]['Citizens']  = {'population': 0, 'contentment': 0, 'fertility': 0}\n",
    "        nation[0]['hints']     = 'off'\n",
    "        nation[0]['Global']    = {'backing': 0, 'respect': 0, 'fear': 0}\n",
    "        nation[0]['Nextmoves'] = []\n",
    "        score      = score - 5\n",
    "        wealth     = wealth - 5\n",
    "        gems       = gems + 5\n",
    "        raremetals = raremetals + 5\n",
    "        oil        = oil + 5\n",
    "        might      = might - 3\n",
    "        troops     = troops -1\n",
    "\n",
    "\n",
    "    # EXCEPTIONS \n",
    "    USA['Finance']['oil'] = 200\n",
    "    RUSSIA['Finance']['oil'] = 200\n",
    "\n",
    "    return(NATION_ARRAY)\n",
    "\n",
    "NATION_ARRAY= setVariables()"
   ]
  },
  {
   "cell_type": "code",
   "execution_count": 42,
   "metadata": {},
   "outputs": [
    {
     "name": "stdout",
     "output_type": "stream",
     "text": [
      "{'knowledge': 0, 'level': 3, 'era': 'INDUSTRIAL REVOLUTION', 'research points': 0, 'researched': {'one': [0, ''], 'two': [0, ''], 'three': [0, ''], 'four': [0, ''], 'five': [0, '']}, 'assets': {'universities': 0, 'techHubs': 0, 'scientists': 0, 'engineers': 0, 'mathematicians': 0, 'entrepreneurs': 0}, 'prestigue': 0}\n"
     ]
    }
   ],
   "source": [
    "print(NATION_ARRAY[0][0]['Tech'])"
   ]
  },
  {
   "cell_type": "code",
   "execution_count": 55,
   "metadata": {},
   "outputs": [],
   "source": [
    "TECH_MAP = {'Era':{'INDUSTRIAL REVOLUTION':{'one':'Wool','two':'Manufacturing Line','three':'Glass Production','four':'Cement','five':'Electricity'},\n",
    "                  'INFORMATION AGE':{'one':'Digital Electronics','two':'Internet','three':'Mobile Technologies','four':'Cloud Computing','five':'Internet of Things'},\n",
    "                  'Second Enlightenment':{'one':'Decentralisation','two':'NeuralLink','three':'Artificial Intelligence','four':'Bio Computing','five':'The Convergance'}\n",
    "                  \n",
    "                  },\n",
    "            'EraBonus':{'INDUSTRIAL REVOLUTION':{'one':['wealth',5],'two': ['wealth',5],'three':['wealth',5],'four':['wealth',5],'five':['wealth',5]},\n",
    "                        'INFORMATION AGE':{'one':['wealth',5],'two':['wealth',5],'three':['wealth',5],'four':['wealth',5],'five':['wealth',5]},\n",
    "                        'Second Enlightenment':{'one':['wealth',5],'two':['wealth',5],'three':['wealth',5],'four':['wealth',5],'five':['wealth',5]}\n",
    "                  \n",
    "                  },\n",
    "            'EraCost':{'INDUSTRIAL REVOLUTION':{'one':{'rp':50,'wealth':100},'two': {'rp':50,'wealth':100},'three':{'rp':50,'wealth':100},'four':{'rp':50,'wealth':100},'five':{'rp':50,'wealth':100}},\n",
    "                        'INFORMATION AGE':{'one':{'rp':50,'wealth':100},'two':{'rp':50,'wealth':100},'three':{'rp':50,'wealth':100},'four':{'rp':50,'wealth':100},'five':{'rp':50,'wealth':100}},\n",
    "                        'Second Enlightenment':{'one':{'rp':50,'wealth':100},'two':{'rp':50,'wealth':100},'three':{'rp':50,'wealth':100},'four':{'rp':50,'wealth':100},'five':{'rp':50,'wealth':100}}\n",
    "                  \n",
    "                  },\n",
    "\n",
    "                  }"
   ]
  },
  {
   "cell_type": "code",
   "execution_count": 57,
   "metadata": {},
   "outputs": [
    {
     "data": {
      "text/plain": [
       "{'INDUSTRIAL REVOLUTION': {'one': {'rp': 50, 'wealth': 100},\n",
       "  'two': {'rp': 50, 'wealth': 100},\n",
       "  'three': {'rp': 50, 'wealth': 100},\n",
       "  'four': {'rp': 50, 'wealth': 100},\n",
       "  'five': {'rp': 50, 'wealth': 100}},\n",
       " 'INFORMATION AGE': {'one': {'rp': 50, 'wealth': 100},\n",
       "  'two': {'rp': 50, 'wealth': 100},\n",
       "  'three': {'rp': 50, 'wealth': 100},\n",
       "  'four': {'rp': 50, 'wealth': 100},\n",
       "  'five': {'rp': 50, 'wealth': 100}},\n",
       " 'Second Enlightenment': {'one': {'rp': 50, 'wealth': 100},\n",
       "  'two': {'rp': 50, 'wealth': 100},\n",
       "  'three': {'rp': 50, 'wealth': 100},\n",
       "  'four': {'rp': 50, 'wealth': 100},\n",
       "  'five': {'rp': 50, 'wealth': 100}}}"
      ]
     },
     "execution_count": 57,
     "metadata": {},
     "output_type": "execute_result"
    }
   ],
   "source": [
    "TECH_MAP['EraCost']"
   ]
  },
  {
   "cell_type": "code",
   "execution_count": 37,
   "metadata": {},
   "outputs": [],
   "source": [
    "index = 0\n",
    "# Get Era and update name fields accordingly\n",
    "def updateTechNames(NATION_ARRAY,index,TECH_MAP):\n",
    "    current     = NATION_ARRAY[index][0]\n",
    "    era         = current['Tech']['era']\n",
    "    updateOne   = TECH_MAP['Era'][era]['one']\n",
    "    updateTwo   = TECH_MAP['Era'][era]['two']\n",
    "    updateThree = TECH_MAP['Era'][era]['three']\n",
    "    updateFour  = TECH_MAP['Era'][era]['four']\n",
    "    updateFive  = TECH_MAP['Era'][era]['five']\n",
    "    \n",
    "    # Update/populate Names\n",
    "    current['Tech']['researched']['one'][1]    = updateOne\n",
    "    current['Tech']['researched']['two'][1]    = updateTwo\n",
    "    current['Tech']['researched']['three'][1]  = updateThree\n",
    "    current['Tech']['researched']['four'][1]   = updateFour\n",
    "    current['Tech']['researched']['five'][1]   = updateFive\n",
    "    return(NATION_ARRAY)\n",
    "\n",
    "NATION_ARRAY = updateTechNames(NATION_ARRAY,index,TECH_MAP)"
   ]
  },
  {
   "cell_type": "code",
   "execution_count": 38,
   "metadata": {},
   "outputs": [
    {
     "name": "stdout",
     "output_type": "stream",
     "text": [
      "{'knowledge': 0, 'level': 0, 'era': 'INFORMATION AGE', 'research points': 0, 'researched': {'one': [0, 'Digital Electronics'], 'two': [0, 'Internet'], 'three': [0, 'Mobile Technologies'], 'four': [0, 'Cloud Computing'], 'five': [0, 'Internet of Things']}, 'assets': {'universities': 0, 'techHubs': 0, 'scientists': 0, 'engineers': 0, 'mathematicians': 0, 'entrepreneurs': 0}, 'prestigue': 0}\n"
     ]
    }
   ],
   "source": [
    "print(NATION_ARRAY[0][0]['Tech'])"
   ]
  },
  {
   "cell_type": "code",
   "execution_count": 40,
   "metadata": {},
   "outputs": [
    {
     "name": "stdout",
     "output_type": "stream",
     "text": [
      "0\n",
      "1\n",
      "2\n",
      "3\n",
      "4\n",
      "5\n",
      "6\n",
      "7\n",
      "8\n",
      "9\n",
      "10\n",
      "11\n",
      "12\n",
      "13\n",
      "14\n",
      "15\n",
      "16\n",
      "17\n",
      "18\n",
      "19\n",
      "20\n"
     ]
    }
   ],
   "source": [
    "for index in range(0,len(NATION_ARRAY)):\n",
    "    print(index)"
   ]
  },
  {
   "cell_type": "code",
   "execution_count": 68,
   "metadata": {},
   "outputs": [],
   "source": [
    "nextmoves = [['submitted','researched','blah', 'banana','bloop'],['submitted','study','era', 'pear','required']]"
   ]
  },
  {
   "cell_type": "code",
   "execution_count": 74,
   "metadata": {},
   "outputs": [
    {
     "data": {
      "text/plain": [
       "0.25"
      ]
     },
     "execution_count": 74,
     "metadata": {},
     "output_type": "execute_result"
    }
   ],
   "source": [
    "50 / 200"
   ]
  },
  {
   "cell_type": "code",
   "execution_count": 1,
   "metadata": {},
   "outputs": [
    {
     "ename": "TypeError",
     "evalue": "list indices must be integers or slices, not str",
     "output_type": "error",
     "traceback": [
      "\u001b[0;31m---------------------------------------------------------------------------\u001b[0m",
      "\u001b[0;31mTypeError\u001b[0m                                 Traceback (most recent call last)",
      "\u001b[0;32m<ipython-input-1-e74ac881f1cb>\u001b[0m in \u001b[0;36m<module>\u001b[0;34m\u001b[0m\n\u001b[0;32m----> 1\u001b[0;31m \u001b[0mbonus\u001b[0m \u001b[0;34m=\u001b[0m \u001b[0;34m[\u001b[0m\u001b[0;34m'Finance'\u001b[0m\u001b[0;34m]\u001b[0m\u001b[0;34m[\u001b[0m\u001b[0;34m'wealth'\u001b[0m\u001b[0;34m]\u001b[0m\u001b[0;34m\u001b[0m\u001b[0;34m\u001b[0m\u001b[0m\n\u001b[0m",
      "\u001b[0;31mTypeError\u001b[0m: list indices must be integers or slices, not str"
     ]
    }
   ],
   "source": [
    "bonus = ['Finance']['wealth']"
   ]
  },
  {
   "cell_type": "code",
   "execution_count": 64,
   "metadata": {},
   "outputs": [
    {
     "data": {
      "text/plain": [
       "-4"
      ]
     },
     "execution_count": 64,
     "metadata": {},
     "output_type": "execute_result"
    }
   ],
   "source": [
    "bob"
   ]
  },
  {
   "cell_type": "code",
   "execution_count": 2,
   "metadata": {},
   "outputs": [
    {
     "data": {
      "text/plain": [
       "0.0"
      ]
     },
     "execution_count": 2,
     "metadata": {},
     "output_type": "execute_result"
    }
   ],
   "source": [
    "0/6"
   ]
  },
  {
   "cell_type": "code",
   "execution_count": null,
   "metadata": {},
   "outputs": [],
   "source": []
  }
 ],
 "metadata": {
  "kernelspec": {
   "display_name": "Python 3",
   "language": "python",
   "name": "python3"
  },
  "language_info": {
   "codemirror_mode": {
    "name": "ipython",
    "version": 3
   },
   "file_extension": ".py",
   "mimetype": "text/x-python",
   "name": "python",
   "nbconvert_exporter": "python",
   "pygments_lexer": "ipython3",
   "version": "3.7.6"
  }
 },
 "nbformat": 4,
 "nbformat_minor": 4
}
