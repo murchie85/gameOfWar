{
 "cells": [
  {
   "cell_type": "code",
   "execution_count": 88,
   "metadata": {},
   "outputs": [],
   "source": [
    "USA           = {'Score': 0, 'Finance':{'wealth': 5000,  'gold':60, 'gems':3, 'raremetals':10,  'oil':200, 'level': 'PickPocket'}  , 'War':{'might': 100, 'level': 'private', 'weapons':{'troops':110,'tanks':0,'gunboats':100,'destroyers':100,'carriers':100,'jets':55,'bombers':9,'Nukes':1}, 'firePower':0}  , 'Tech':{'level': 3, 'science':0, 'engineering':0},  'Politics':{'leadership':0, 'stability':0} , 'Special':{'chance': 0, 'moveLimit':2, 'agression':70, 'creativity':80, 'materialism':70, 'prudence':30, 'notes': []} , 'Friendship':{} , 'Citizens':{'population': 0, 'contentment': 0, 'fertility': 0}, 'hints':'on', 'Nextmoves' : []}"
   ]
  },
  {
   "cell_type": "code",
   "execution_count": 90,
   "metadata": {},
   "outputs": [
    {
     "name": "stdout",
     "output_type": "stream",
     "text": [
      "{'troops': 110, 'tanks': 0, 'gunboats': 0, 'destroyers': 0, 'carriers': 0, 'jets': 55, 'bombers': 9, 'Nukes': 1}\n",
      "gunboats\n",
      "100\n",
      "destroyers\n",
      "100\n",
      "carriers\n",
      "100\n"
     ]
    }
   ],
   "source": [
    "import random\n",
    "for unit,amount in units:\n",
    "    USA['War']['weapons'][unit] = 0\n",
    "print(USA['War']['weapons'])\n",
    "nextMove = ['drill', 'navy', 'hard', [('gunboats', 100), ('destroyers', 100), ('carriers', 100)]]\n",
    "move      = nextMove[0]\n",
    "branch    = nextMove[1]\n",
    "intensity = nextMove[2]\n",
    "units     = nextMove[3]\n",
    "\n",
    "mediumLoss = 0.1\n",
    "lossProbability = random.randint(0,10)\n",
    "randomNumber = random.randint(0,10)\n",
    "lossProbability,randomNumber = 1,1\n",
    "\n",
    "if lossProbability == randomNumber:\n",
    "    for item, keys in units:\n",
    "        print(item)\n",
    "        print(keys)\n",
    "        if keys < 1:\n",
    "            print('empty skipping')\n",
    "    \n",
    "    \n",
    "# elif branch == 'navy':\n",
    "#     size = USA['War']['weapons']['gunboats'] + USA['War']['weapons']['destroyers'] + USA['War']['weapons']['carriers']\n",
    "# elif branch == 'airforce':\n",
    "#     size = USA['War']['weapons']['jets'] + USA['War']['weapons']['bombers']\n",
    "    "
   ]
  },
  {
   "cell_type": "code",
   "execution_count": 23,
   "metadata": {},
   "outputs": [
    {
     "data": {
      "text/plain": [
       "1.0"
      ]
     },
     "execution_count": 23,
     "metadata": {},
     "output_type": "execute_result"
    }
   ],
   "source": [
    "#units = ['drill', 'army', 'hard', [('troops', 100), ('tanks', 100)]]\n",
    "units = ['drill', 'navy', 'hard', [('gunboats', 100), ('destroyers', 100), ('carriers', 100)]]"
   ]
  },
  {
   "cell_type": "code",
   "execution_count": 48,
   "metadata": {},
   "outputs": [
    {
     "data": {
      "text/plain": [
       "{'troops': 110,\n",
       " 'tanks': 0,\n",
       " 'gunboats': 100,\n",
       " 'destroyers': 100,\n",
       " 'carriers': 100,\n",
       " 'jets': 55,\n",
       " 'bombers': 9,\n",
       " 'Nukes': 1}"
      ]
     },
     "execution_count": 48,
     "metadata": {},
     "output_type": "execute_result"
    }
   ],
   "source": [
    "USA['War']['weapons']"
   ]
  },
  {
   "cell_type": "code",
   "execution_count": 58,
   "metadata": {},
   "outputs": [],
   "source": [
    "for unit,amount in units:\n",
    "    USA['War']['weapons'][unit] = 0\n"
   ]
  },
  {
   "cell_type": "code",
   "execution_count": 59,
   "metadata": {},
   "outputs": [
    {
     "data": {
      "text/plain": [
       "{'troops': 110,\n",
       " 'tanks': 0,\n",
       " 'gunboats': 0,\n",
       " 'destroyers': 0,\n",
       " 'carriers': 0,\n",
       " 'jets': 55,\n",
       " 'bombers': 9,\n",
       " 'Nukes': 1}"
      ]
     },
     "execution_count": 59,
     "metadata": {},
     "output_type": "execute_result"
    }
   ],
   "source": [
    "USA['War']['weapons']"
   ]
  },
  {
   "cell_type": "code",
   "execution_count": null,
   "metadata": {},
   "outputs": [],
   "source": []
  }
 ],
 "metadata": {
  "kernelspec": {
   "display_name": "Python 3",
   "language": "python",
   "name": "python3"
  },
  "language_info": {
   "codemirror_mode": {
    "name": "ipython",
    "version": 3
   },
   "file_extension": ".py",
   "mimetype": "text/x-python",
   "name": "python",
   "nbconvert_exporter": "python",
   "pygments_lexer": "ipython3",
   "version": "3.7.6"
  }
 },
 "nbformat": 4,
 "nbformat_minor": 4
}
