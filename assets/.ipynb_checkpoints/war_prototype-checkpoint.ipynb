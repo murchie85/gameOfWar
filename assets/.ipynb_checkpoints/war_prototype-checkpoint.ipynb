{
 "cells": [
  {
   "cell_type": "code",
   "execution_count": 1,
   "metadata": {},
   "outputs": [],
   "source": [
    "USA           = {'Score': 90, 'Finance':{'wealth': 500,  'gold':60, 'gems':3, 'raremetals':10,  'oil':200, 'level': 'PickPocket'}  , 'War':{'might': 100, 'level': 'private', 'weapons':{'troops':500,'tanks':0,'gunboats':20,'destroyers':5,'carriers':1,'jets':10,'bombers':3,'Nukes':0}, 'firePower':0}  , 'Tech':{'Score' : 0,'level': 0, 'science':0, 'engineering':0},  'Politics':{'leadership':0, 'stability':0} , 'Special':{'chance': 0, 'moveLimit':2, 'aggression':70, 'creativity':80, 'materialism':70, 'prudence':30, 'bonusUnits': [], 'notes': []} , 'Friendship':{} , 'Citizens':{'population': 0, 'contentment': 0, 'fertility': 0}, 'hints':'on', 'Nextmoves' : []}\n"
   ]
  },
  {
   "cell_type": "code",
   "execution_count": null,
   "metadata": {},
   "outputs": [],
   "source": [
    "\n",
    "for x in range(0,len(USA['Nextmoves'])):\n",
    "    if 'WeaponsBuild' in NATION_ARRAY[0]['Nextmoves'][x] or 'WeaponsScrap' in NATION_ARRAY[0]['Nextmoves'][x] :\n",
    "        print('preserving move')\n",
    "        break\n"
   ]
  },
  {
   "cell_type": "code",
   "execution_count": null,
   "metadata": {},
   "outputs": [],
   "source": []
  }
 ],
 "metadata": {
  "kernelspec": {
   "display_name": "Python 3",
   "language": "python",
   "name": "python3"
  },
  "language_info": {
   "codemirror_mode": {
    "name": "ipython",
    "version": 3
   },
   "file_extension": ".py",
   "mimetype": "text/x-python",
   "name": "python",
   "nbconvert_exporter": "python",
   "pygments_lexer": "ipython3",
   "version": "3.7.6"
  }
 },
 "nbformat": 4,
 "nbformat_minor": 4
}
