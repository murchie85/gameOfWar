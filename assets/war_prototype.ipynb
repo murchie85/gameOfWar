{
 "cells": [
  {
   "cell_type": "code",
   "execution_count": 256,
   "metadata": {},
   "outputs": [],
   "source": [
    "USA           = {'Score': 0, 'Finance':{'wealth': 5000,  'gold':60, 'gems':3, 'raremetals':10,  'oil':200, 'level': 'PickPocket'}  , 'War':{'might': 100, 'level': 'private', 'weapons':{'troops':111,'tanks':22,'gunboats':1,'destroyers':6,'carriers':0,'jets':2,'bombers':1,'Nukes':1}, 'firePower':0}  , 'Tech':{'level': 3, 'science':0, 'engineering':0},  'Politics':{'leadership':0, 'stability':0} , 'Special':{'chance': 0, 'moveLimit':2, 'aggression':70, 'creativity':80, 'materialism':70, 'prudence':30, 'notes': []} , 'Friendship':{} , 'Citizens':{'population': 0, 'contentment': 0, 'fertility': 0}, 'hints':'on', 'Nextmoves' : []}\n",
    "\n",
    "troops     = 111\n",
    "tanks      = 22\n",
    "army       = troops + tanks\n",
    "gunboats   = 1\n",
    "destroyers = 6\n",
    "carriers   = 0\n",
    "navy       = gunboats + destroyers + carriers\n",
    "jets       = 2\n",
    "bombers    = 1\n",
    "airforce   = jets + bombers\n",
    "\n",
    "branchSelection = []\n",
    "    branchSelection.append(('army',('troops','tanks'),army))\n",
    "branchSelection.append(('navy', ('gunboats','destroyers','carriers'), navy))\n",
    "branchSelection.append(('airforce',('jets','bombers'), airforce))"
   ]
  },
  {
   "cell_type": "code",
   "execution_count": 265,
   "metadata": {},
   "outputs": [
    {
     "name": "stdout",
     "output_type": "stream",
     "text": [
      "('army', ('troops', 'tanks'), 133)\n"
     ]
    }
   ],
   "source": [
    "branch = random.choice(branchSelection)\n",
    "print(branch)"
   ]
  },
  {
   "cell_type": "code",
   "execution_count": 266,
   "metadata": {},
   "outputs": [
    {
     "data": {
      "text/plain": [
       "['troops', 111, 'tanks', 22]"
      ]
     },
     "execution_count": 266,
     "metadata": {},
     "output_type": "execute_result"
    }
   ],
   "source": [
    "units = []\n",
    "for asset in branch[1]:\n",
    "    units.append(str(asset))\n",
    "    units.append(USA['War']['weapons'][asset])\n",
    "units"
   ]
  },
  {
   "cell_type": "code",
   "execution_count": 268,
   "metadata": {},
   "outputs": [
    {
     "data": {
      "text/plain": [
       "('troops', 'tanks')"
      ]
     },
     "execution_count": 268,
     "metadata": {},
     "output_type": "execute_result"
    }
   ],
   "source": [
    "branch[1]"
   ]
  },
  {
   "cell_type": "code",
   "execution_count": 212,
   "metadata": {},
   "outputs": [
    {
     "data": {
      "text/plain": [
       "{'troops': 0,\n",
       " 'tanks': 0,\n",
       " 'gunboats': 0,\n",
       " 'destroyers': 0,\n",
       " 'carriers': 0,\n",
       " 'jets': 0,\n",
       " 'bombers': 0,\n",
       " 'Nukes': 1}"
      ]
     },
     "execution_count": 212,
     "metadata": {},
     "output_type": "execute_result"
    }
   ],
   "source": [
    " USA['War']['weapons']"
   ]
  },
  {
   "cell_type": "code",
   "execution_count": 250,
   "metadata": {},
   "outputs": [],
   "source": [
    "branchSelection = []"
   ]
  },
  {
   "cell_type": "code",
   "execution_count": 254,
   "metadata": {},
   "outputs": [
    {
     "data": {
      "text/plain": [
       "'hard'"
      ]
     },
     "execution_count": 254,
     "metadata": {},
     "output_type": "execute_result"
    }
   ],
   "source": []
  },
  {
   "cell_type": "code",
   "execution_count": null,
   "metadata": {},
   "outputs": [],
   "source": []
  }
 ],
 "metadata": {
  "kernelspec": {
   "display_name": "Python 3",
   "language": "python",
   "name": "python3"
  },
  "language_info": {
   "codemirror_mode": {
    "name": "ipython",
    "version": 3
   },
   "file_extension": ".py",
   "mimetype": "text/x-python",
   "name": "python",
   "nbconvert_exporter": "python",
   "pygments_lexer": "ipython3",
   "version": "3.7.6"
  }
 },
 "nbformat": 4,
 "nbformat_minor": 4
}
