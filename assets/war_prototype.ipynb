{
 "cells": [
  {
   "cell_type": "code",
   "execution_count": 3,
   "metadata": {},
   "outputs": [],
   "source": [
    "USA           = {'Score': 90, 'Finance':{'wealth': 500,  'gold':60, 'gems':3, 'raremetals':10,  'oil':200, 'level': 'PickPocket'}  , 'War':{'might': 100, 'level': 'private', 'weapons':{'troops':500,'tanks':0,'gunboats':20,'destroyers':5,'carriers':1,'jets':10,'bombers':3,'Nukes':0}, 'firePower':0}  , 'Tech':{'Score' : 0,'level': 0, 'science':0, 'engineering':0},  'Politics':{'leadership':0, 'stability':0} , 'Special':{'chance': 0, 'moveLimit':2, 'aggression':70, 'creativity':80, 'materialism':70, 'prudence':30, 'bonusUnits': [], 'notes': []} , 'Friendship':{} , 'Citizens':{'population': 0, 'contentment': 0, 'fertility': 0}, 'hints':'on', 'Nextmoves' : []}\n",
    "UK            = {'Score': 75, 'Finance':{'wealth': 350,  'gold':45, 'gems':1, 'raremetals':20,  'oil':120, 'level': 'PickPocket'}   , 'War':{'might': 60, 'level': 'private', 'weapons':{'troops':140,'tanks':0,'gunboats':20,'destroyers':5,'carriers':1,'jets':10,'bombers':3,'Nukes':0}, 'firePower':0}  , 'Tech':{'Score' : 0,'level': 0, 'science':0, 'engineering':0},  'Politics':{'leadership':0, 'stability':0} , 'Special':{'chance': 0, 'moveLimit':2, 'aggression':60, 'creativity':70, 'materialism':65, 'prudence':50, 'bonusUnits': [], 'notes': []} , 'Friendship':{} , 'Citizens':{'population': 0, 'contentment': 0, 'fertility': 0}, 'hints':'on', 'Nextmoves' : []}\n",
    "CHINA         = {'Score': 90, 'Finance':{'wealth': 500,  'gold':20, 'gems':2, 'raremetals':200, 'oil':20,  'level': 'PickPocket'}   , 'War':{'might': 90, 'level': 'private', 'weapons':{'troops':900,'tanks':0,'gunboats':20,'destroyers':5,'carriers':1,'jets':10,'bombers':3,'Nukes':0}, 'firePower':0}  , 'Tech':{'Score' : 0,'level': 0, 'science':0, 'engineering':0},  'Politics':{'leadership':0, 'stability':0} , 'Special':{'chance': 0, 'moveLimit':2, 'aggression':70, 'creativity':30, 'materialism':90, 'prudence':60, 'bonusUnits': [], 'notes': []} , 'Friendship':{} , 'Citizens':{'population': 0, 'contentment': 0, 'fertility': 0}, 'hints':'on', 'Nextmoves' : []}\n",
    "INDIA         = {'Score': 65, 'Finance':{'wealth': 400,  'gold':50, 'gems':3, 'raremetals':30,  'oil':20,  'level': 'PickPocket'}   , 'War':{'might': 60, 'level': 'private', 'weapons':{'troops':850,'tanks':0,'gunboats':20,'destroyers':5,'carriers':1,'jets':10,'bombers':3,'Nukes':0}, 'firePower':0}  , 'Tech':{'Score' : 0,'level': 0, 'science':0, 'engineering':0},  'Politics':{'leadership':0, 'stability':0} , 'Special':{'chance': 0, 'moveLimit':2, 'aggression':40, 'creativity':30, 'materialism':20, 'prudence':50, 'bonusUnits': [], 'notes': []} , 'Friendship':{} , 'Citizens':{'population': 0, 'contentment': 0, 'fertility': 0}, 'hints':'on', 'Nextmoves' : []}\n",
    "RUSSIA        = {'Score': 60, 'Finance':{'wealth': 200,  'gold':25, 'gems':1, 'raremetals':20,  'oil':200, 'level': 'PickPocket'}   , 'War':{'might': 80, 'level': 'private', 'weapons':{'troops':200,'tanks':0,'gunboats':20,'destroyers':5,'carriers':1,'jets':10,'bombers':3,'Nukes':0}, 'firePower':0}  , 'Tech':{'Score' : 0,'level': 0, 'science':0, 'engineering':0},  'Politics':{'leadership':0, 'stability':0} , 'Special':{'chance': 0, 'moveLimit':2, 'aggression':80, 'creativity':20, 'materialism':60, 'prudence':40, 'bonusUnits': [], 'notes': []} , 'Friendship':{} , 'Citizens':{'population': 0, 'contentment': 0, 'fertility': 0}, 'hints':'on', 'Nextmoves' : []}\n",
    "GERMANY       = {'Score': 70, 'Finance':{'wealth': 300,  'gold':25, 'gems':1, 'raremetals':30,  'oil':10,  'level': 'PickPocket'}   , 'War':{'might': 60, 'level': 'private', 'weapons':{'troops':120,'tanks':0,'gunboats':20,'destroyers':5,'carriers':1,'jets':10,'bombers':3,'Nukes':0}, 'firePower':0}  , 'Tech':{'Score' : 0,'level': 0, 'science':0, 'engineering':0},  'Politics':{'leadership':0, 'stability':0} , 'Special':{'chance': 0, 'moveLimit':2, 'aggression':40, 'creativity':70, 'materialism':60, 'prudence':40, 'bonusUnits': [], 'notes': []} , 'Friendship':{} , 'Citizens':{'population': 0, 'contentment': 0, 'fertility': 0}, 'hints':'on', 'Nextmoves' : []}\n",
    "ITALY \t\t  = {'Score': 68, 'Finance':{'wealth': 200,  'gold':40, 'gems':2, 'raremetals':10,  'oil':30,  'level': 'PickPocket'}   , 'War':{'might': 60, 'level': 'private', 'weapons':{'troops':130,'tanks':0,'gunboats':20,'destroyers':5,'carriers':1,'jets':10,'bombers':3,'Nukes':0}, 'firePower':0}  , 'Tech':{'Score' : 0,'level': 0, 'science':0, 'engineering':0},  'Politics':{'leadership':0, 'stability':0} , 'Special':{'chance': 0, 'moveLimit':2, 'aggression':50, 'creativity':70, 'materialism':60, 'prudence':50, 'bonusUnits': [], 'notes': []} , 'Friendship':{} , 'Citizens':{'population': 0, 'contentment': 0, 'fertility': 0}, 'hints':'on', 'Nextmoves' : []}\n",
    "SPAIN \t\t  = {'Score': 68, 'Finance':{'wealth': 200,  'gold':45, 'gems':2, 'raremetals':10,  'oil':20,  'level': 'PickPocket'}   , 'War':{'might': 60, 'level': 'private', 'weapons':{'troops':130,'tanks':0,'gunboats':20,'destroyers':5,'carriers':1,'jets':10,'bombers':3,'Nukes':0}, 'firePower':0}  , 'Tech':{'Score' : 0,'level': 0, 'science':0, 'engineering':0},  'Politics':{'leadership':0, 'stability':0} , 'Special':{'chance': 0, 'moveLimit':2, 'aggression':50, 'creativity':70, 'materialism':50, 'prudence':60, 'bonusUnits': [], 'notes': []} , 'Friendship':{} , 'Citizens':{'population': 0, 'contentment': 0, 'fertility': 0}, 'hints':'on', 'Nextmoves' : []}\n",
    "FRANCE        = {'Score': 74, 'Finance':{'wealth': 200,  'gold':40, 'gems':5, 'raremetals':10,  'oil':10,  'level': 'PickPocket'}   , 'War':{'might': 60, 'level': 'private', 'weapons':{'troops':140,'tanks':0,'gunboats':20,'destroyers':5,'carriers':1,'jets':10,'bombers':3,'Nukes':0}, 'firePower':0}  , 'Tech':{'Score' : 0,'level': 0, 'science':0, 'engineering':0},  'Politics':{'leadership':0, 'stability':0} , 'Special':{'chance': 0, 'moveLimit':2, 'aggression':60, 'creativity':70, 'materialism':40, 'prudence':50, 'bonusUnits': [], 'notes': []} , 'Friendship':{} , 'Citizens':{'population': 0, 'contentment': 0, 'fertility': 0}, 'hints':'on', 'Nextmoves' : []}\n",
    "JAPAN         = {'Score': 70, 'Finance':{'wealth': 350,  'gold':35, 'gems':12, 'raremetals':100, 'oil':20,  'level': 'PickPocket'}  , 'War':{'might': 60, 'level': 'private', 'weapons':{'troops':220,'tanks':0,'gunboats':20,'destroyers':5,'carriers':1,'jets':10,'bombers':3,'Nukes':0}, 'firePower':0}  , 'Tech':{'Score' : 0,'level': 0, 'science':0, 'engineering':0},  'Politics':{'leadership':0, 'stability':0} , 'Special':{'chance': 0, 'moveLimit':2, 'aggression':30, 'creativity':70, 'materialism':40, 'prudence':40, 'bonusUnits': [], 'notes': []} , 'Friendship':{} , 'Citizens':{'population': 0, 'contentment': 0, 'fertility': 0}, 'hints':'on', 'Nextmoves' : []}\n",
    "BRAZIL        = {'Score': 55, 'Finance':{'wealth': 100,  'gold':15, 'gems':23, 'raremetals':30,  'oil':80,  'level': 'PickPocket'}  , 'War':{'might': 60, 'level': 'private', 'weapons':{'troops':100,'tanks':0,'gunboats':20,'destroyers':5,'carriers':0,'jets':10,'bombers':3,'Nukes':0}, 'firePower':0}  , 'Tech':{'Score' : 0,'level': 0, 'science':0, 'engineering':0},  'Politics':{'leadership':0, 'stability':0} , 'Special':{'chance': 0, 'moveLimit':2, 'aggression':60, 'creativity':70, 'materialism':70, 'prudence':70, 'bonusUnits': [], 'notes': []} , 'Friendship':{} , 'Citizens':{'population': 0, 'contentment': 0, 'fertility': 0}, 'hints':'on', 'Nextmoves' : []}\n",
    "SOUTHKOREA    = {'Score': 50, 'Finance':{'wealth': 200,  'gold':25, 'gems':22, 'raremetals':80,  'oil':10,  'level': 'PickPocket'}  , 'War':{'might': 60, 'level': 'private', 'weapons':{'troops':100,'tanks':0,'gunboats':20,'destroyers':5,'carriers':0,'jets':10,'bombers':3,'Nukes':0}, 'firePower':0}  , 'Tech':{'Score' : 0,'level': 0, 'science':0, 'engineering':0},  'Politics':{'leadership':0, 'stability':0} , 'Special':{'chance': 0, 'moveLimit':2, 'aggression':40, 'creativity':70, 'materialism':40, 'prudence':60, 'bonusUnits': [], 'notes': []} , 'Friendship':{} , 'Citizens':{'population': 0, 'contentment': 0, 'fertility': 0}, 'hints':'on', 'Nextmoves' : []}\n",
    "SOUTHAFRICA   = {'Score': 48, 'Finance':{'wealth': 100,  'gold':45, 'gems':27, 'raremetals':10,  'oil':60,  'level': 'PickPocket'}  , 'War':{'might': 40, 'level': 'private', 'weapons':{'troops':100,'tanks':0,'gunboats':30,'destroyers':5,'carriers':0,'jets':10,'bombers':3,'Nukes':0}, 'firePower':0}  , 'Tech':{'Score' : 0,'level': 0, 'science':0, 'engineering':0},  'Politics':{'leadership':0, 'stability':0} , 'Special':{'chance': 0, 'moveLimit':2, 'aggression':40, 'creativity':70, 'materialism':70, 'prudence':50, 'bonusUnits': [], 'notes': []} , 'Friendship':{} , 'Citizens':{'population': 0, 'contentment': 0, 'fertility': 0}, 'hints':'on', 'Nextmoves' : []}\n",
    "PAKISTAN      = {'Score': 45, 'Finance':{'wealth': 100,  'gold':40, 'gems':23, 'raremetals':10,  'oil':80,  'level': 'PickPocket'}  , 'War':{'might': 40, 'level': 'private', 'weapons':{'troops':400,'tanks':10,'gunboats':30,'destroyers':5,'carriers':0,'jets':10,'bombers':3,'Nukes':0}, 'firePower':0}  , 'Tech':{'Score' : 0,'level': 0, 'science':0, 'engineering':0},  'Politics':{'leadership':0, 'stability':0} , 'Special':{'chance': 0, 'moveLimit':2, 'aggression':70, 'creativity':70, 'materialism':80, 'prudence':40, 'bonusUnits': [], 'notes': []} , 'Friendship':{} , 'Citizens':{'population': 0, 'contentment': 0, 'fertility': 0}, 'hints':'on', 'Nextmoves' : []}\n",
    "INDONESIA     = {'Score': 40, 'Finance':{'wealth': 100,  'gold':20, 'gems':23, 'raremetals':40,  'oil':30,  'level': 'PickPocket'}  , 'War':{'might': 40, 'level': 'private', 'weapons':{'troops':300,'tanks':10,'gunboats':30,'destroyers':5,'carriers':0,'jets':10,'bombers':3,'Nukes':0}, 'firePower':0}  , 'Tech':{'Score' : 0,'level': 0, 'science':0, 'engineering':0},  'Politics':{'leadership':0, 'stability':0} , 'Special':{'chance': 0, 'moveLimit':2, 'aggression':40, 'creativity':70, 'materialism':70, 'prudence':60, 'bonusUnits': [], 'notes': []} , 'Friendship':{} , 'Citizens':{'population': 0, 'contentment': 0, 'fertility': 0}, 'hints':'on', 'Nextmoves' : []}\n",
    "NIGERIA       = {'Score': 55, 'Finance':{'wealth': 100,  'gold':40, 'gems':26, 'raremetals':10,  'oil':90,  'level': 'PickPocket'}  , 'War':{'might': 40, 'level': 'private', 'weapons':{'troops':100,'tanks':10,'gunboats':30,'destroyers':5,'carriers':0,'jets':10,'bombers':3,'Nukes':0}, 'firePower':0}  , 'Tech':{'Score' : 0,'level': 0, 'science':0, 'engineering':0},  'Politics':{'leadership':0, 'stability':0} , 'Special':{'chance': 0, 'moveLimit':2, 'aggression':40, 'creativity':70, 'materialism':80, 'prudence':55, 'bonusUnits': [], 'notes': []} , 'Friendship':{} , 'Citizens':{'population': 0, 'contentment': 0, 'fertility': 0}, 'hints':'on', 'Nextmoves' : []}\n",
    "MEXICO        = {'Score': 50, 'Finance':{'wealth': 100,  'gold':20, 'gems':23, 'raremetals':30,  'oil':90,  'level': 'PickPocket'}  , 'War':{'might': 40, 'level': 'private', 'weapons':{'troops':150,'tanks':10,'gunboats':30,'destroyers':5,'carriers':0,'jets':10,'bombers':3,'Nukes':0}, 'firePower':0}  , 'Tech':{'Score' : 0,'level': 0, 'science':0, 'engineering':0},  'Politics':{'leadership':0, 'stability':0} , 'Special':{'chance': 0, 'moveLimit':2, 'aggression':50, 'creativity':70, 'materialism':70, 'prudence':40, 'bonusUnits': [], 'notes': []} , 'Friendship':{} , 'Citizens':{'population': 0, 'contentment': 0, 'fertility': 0}, 'hints':'on', 'Nextmoves' : []}\n",
    "EGYPT         = {'Score': 48, 'Finance':{'wealth': 100,  'gold':60, 'gems':24, 'raremetals':10,  'oil':110, 'level': 'PickPocket'}  , 'War':{'might': 40, 'level': 'private', 'weapons':{'troops':100,'tanks':10,'gunboats':30,'destroyers':5,'carriers':0,'jets':10,'bombers':3,'Nukes':0}, 'firePower':0}  , 'Tech':{'Score' : 0,'level': 0, 'science':0, 'engineering':0},  'Politics':{'leadership':0, 'stability':0} , 'Special':{'chance': 0, 'moveLimit':2, 'aggression':60, 'creativity':70, 'materialism':60, 'prudence':65, 'bonusUnits': [], 'notes': []} , 'Friendship':{} , 'Citizens':{'population': 0, 'contentment': 0, 'fertility': 0},'hints':'on', 'Nextmoves' : []}\n",
    "VIETNAM       = {'Score': 48, 'Finance':{'wealth': 150,  'gold':20, 'gems':22, 'raremetals':130, 'oil':30,  'level': 'PickPocket'}  , 'War':{'might': 40, 'level': 'private', 'weapons':{'troops':100,'tanks':10,'gunboats':30,'destroyers':5,'carriers':0,'jets':10,'bombers':3,'Nukes':0}, 'firePower':0}  , 'Tech':{'Score' : 0,'level': 0, 'science':0, 'engineering':0},  'Politics':{'leadership':0, 'stability':0} , 'Special':{'chance': 0, 'moveLimit':2, 'aggression':40, 'creativity':70, 'materialism':70, 'prudence':45, 'bonusUnits': [], 'notes': []} , 'Friendship':{} , 'Citizens':{'population': 0, 'contentment': 0, 'fertility': 0}, 'hints':'on', 'Nextmoves' : []}\n",
    "NATION_ARRAY = [[USA,'USA'],[UK,'UK'],[GERMANY,'GERMANY'],[CHINA,'CHINA'],[INDIA,'INDIA'],[RUSSIA,'RUSSIA'],[ITALY,'ITALY'],[SPAIN,'SPAIN'],[FRANCE,'FRANCE'],[JAPAN,'JAPAN'],[BRAZIL,'BRAZIL'],[SOUTHKOREA,'SOUTHKOREA'],[SOUTHAFRICA,'SOUTHAFRICA'],[PAKISTAN,'PAKISTAN'],[INDONESIA,'INDONESIA'],[NIGERIA,'NIGERIA'],[MEXICO,'MEXICO'],[EGYPT,'EGYPT'],[VIETNAM,'VIETNAM']]\n"
   ]
  },
  {
   "cell_type": "code",
   "execution_count": 20,
   "metadata": {},
   "outputs": [],
   "source": [
    "wealthArray = []\n",
    "for country in NATION_ARRAY: wealthArray.append(country[0]['Finance']['wealth'])\n",
    "averageWealth = round((sum(wealthArray)/len(wealthArray)))\n",
    "if wealth < averageWealth: "
   ]
  },
  {
   "cell_type": "code",
   "execution_count": 23,
   "metadata": {},
   "outputs": [
    {
     "data": {
      "text/plain": [
       "1"
      ]
     },
     "execution_count": 23,
     "metadata": {},
     "output_type": "execute_result"
    }
   ],
   "source": [
    "import random\n",
    "random.randint(1,1)"
   ]
  },
  {
   "cell_type": "code",
   "execution_count": null,
   "metadata": {},
   "outputs": [],
   "source": []
  }
 ],
 "metadata": {
  "kernelspec": {
   "display_name": "Python 3",
   "language": "python",
   "name": "python3"
  },
  "language_info": {
   "codemirror_mode": {
    "name": "ipython",
    "version": 3
   },
   "file_extension": ".py",
   "mimetype": "text/x-python",
   "name": "python",
   "nbconvert_exporter": "python",
   "pygments_lexer": "ipython3",
   "version": "3.7.6"
  }
 },
 "nbformat": 4,
 "nbformat_minor": 4
}
