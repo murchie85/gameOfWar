{
 "cells": [
  {
   "cell_type": "code",
   "execution_count": 42,
   "metadata": {},
   "outputs": [],
   "source": [
    "USA           = {'Score': 90, 'Finance':{'wealth': 500,  'gold':60, 'gems':3, 'raremetals':10,  'oil':200, 'level': 'PickPocket'}  , 'War':{'might': 100, 'level': 'private', 'weapons':{'troops':500,'tanks':0,'gunboats':20,'destroyers':5,'carriers':1,'jets':10,'bombers':3,'Nukes':0}, 'firePower':0}  , 'Tech':{'Score' : 0,'level': 0, 'science':0, 'engineering':0},  'Politics':{'influence':0, 'stability':0} , 'Special':{'chance': 0, 'moveLimit':2, 'aggression':70, 'creativity':80, 'materialism':70, 'prudence':30, 'bonusUnits': [], 'notes': []} , 'Friendship':{\"CHINA\": 0,\"UK\": 0,\"FRANCE\": 0,\"JAPAN\": 0,\"GERMANY\": 0,\"SPAIN\": 0,\"ITALY\": 0,\"INDIA\": 0,\"RUSSIA\": 0,\"NIGERIA\": 0,\"BRAZIL\": 0,\"IRAN\": 0,\"MEXICO\": 0,\"SOUTHKOREA\": 0,\"KENYA\": 0,\"VIETNAM\": 0,\"EGYPT\": 0,\"SOUTHAFRICA\": 0,\"PAKISTAN\": 0,\"INDONESIA\": 0} , 'Citizens':{'population': 0, 'contentment': 0, 'fertility': 0}, 'hints':'on', 'Nextmoves' : []}\n",
    "UK            = {'Score': 75, 'Finance':{'wealth': 350,  'gold':45, 'gems':1, 'raremetals':20,  'oil':120, 'level': 'PickPocket'}   , 'War':{'might': 60, 'level': 'private', 'weapons':{'troops':140,'tanks':0,'gunboats':20,'destroyers':5,'carriers':1,'jets':10,'bombers':3,'Nukes':0}, 'firePower':0}  , 'Tech':{'Score' : 0,'level': 0, 'science':0, 'engineering':0},  'Politics':{'influence':0, 'stability':0} , 'Special':{'chance': 0, 'moveLimit':2, 'aggression':60, 'creativity':70, 'materialism':65, 'prudence':50, 'bonusUnits': [], 'notes': []} , 'Friendship':{\"CHINA\": 0,\"USA\": 0,\"FRANCE\": 0,\"JAPAN\": 0,\"GERMANY\": 0,\"SPAIN\": 0,\"ITALY\": 0,\"INDIA\": 0,\"RUSSIA\": 0,\"NIGERIA\": 0,\"BRAZIL\": 0,\"IRAN\": 0,\"MEXICO\": 0,\"SOUTHKOREA\": 0,\"KENYA\": 0,\"VIETNAM\": 0,\"EGYPT\": 0,\"SOUTHAFRICA\": 0,\"PAKISTAN\": 0,\"INDONESIA\": 0}, 'Citizens':{'population': 0, 'contentment': 0, 'fertility': 0}, 'hints':'on', 'Nextmoves' : []}\n",
    "CHINA         = {'Score': 90, 'Finance':{'wealth': 500,  'gold':20, 'gems':2, 'raremetals':200, 'oil':20,  'level': 'PickPocket'}   , 'War':{'might': 90, 'level': 'private', 'weapons':{'troops':900,'tanks':0,'gunboats':20,'destroyers':5,'carriers':1,'jets':10,'bombers':3,'Nukes':0}, 'firePower':0}  , 'Tech':{'Score' : 0,'level': 0, 'science':0, 'engineering':0},  'Politics':{'influence':0, 'stability':0} , 'Special':{'chance': 0, 'moveLimit':2, 'aggression':70, 'creativity':30, 'materialism':90, 'prudence':60, 'bonusUnits': [], 'notes': []} , 'Friendship':{\"USA\": 0,\"UK\": 0,\"FRANCE\": 0,\"JAPAN\": 0,\"GERMANY\": 0,\"SPAIN\": 0,\"ITALY\": 0,\"INDIA\": 0,\"RUSSIA\": 0,\"NIGERIA\": 0,\"BRAZIL\": 0,\"IRAN\": 0,\"MEXICO\": 0,\"SOUTHKOREA\": 0,\"KENYA\": 0,\"VIETNAM\": 0,\"EGYPT\": 0,\"SOUTHAFRICA\": 0,\"PAKISTAN\": 0,\"INDONESIA\": 0}, 'Citizens':{'population': 0, 'contentment': 0, 'fertility': 0}, 'hints':'on', 'Nextmoves' : []}\n",
    "INDIA         = {'Score': 65, 'Finance':{'wealth': 400,  'gold':50, 'gems':3, 'raremetals':30,  'oil':20,  'level': 'PickPocket'}   , 'War':{'might': 60, 'level': 'private', 'weapons':{'troops':850,'tanks':0,'gunboats':20,'destroyers':5,'carriers':1,'jets':10,'bombers':3,'Nukes':0}, 'firePower':0}  , 'Tech':{'Score' : 0,'level': 0, 'science':0, 'engineering':0},  'Politics':{'influence':0, 'stability':0} , 'Special':{'chance': 0, 'moveLimit':2, 'aggression':40, 'creativity':30, 'materialism':20, 'prudence':50, 'bonusUnits': [], 'notes': []} , 'Friendship':{\"CHINA\": 0,\"USA\": 0,\"UK\": 0,\"FRANCE\": 0,\"JAPAN\": 0,\"GERMANY\": 0,\"SPAIN\": 0,\"ITALY\": 0,\"RUSSIA\": 0,\"NIGERIA\": 0,\"BRAZIL\": 0,\"IRAN\": 0,\"MEXICO\": 0,\"SOUTHKOREA\": 0,\"KENYA\": 0,\"VIETNAM\": 0,\"EGYPT\": 0,\"SOUTHAFRICA\": 0,\"PAKISTAN\": 0,\"INDONESIA\": 0} , 'Citizens':{'population': 0, 'contentment': 0, 'fertility': 0}, 'hints':'on', 'Nextmoves' : []}\n",
    "RUSSIA        = {'Score': 60, 'Finance':{'wealth': 200,  'gold':25, 'gems':1, 'raremetals':20,  'oil':200, 'level': 'PickPocket'}   , 'War':{'might': 80, 'level': 'private', 'weapons':{'troops':200,'tanks':0,'gunboats':20,'destroyers':5,'carriers':1,'jets':10,'bombers':3,'Nukes':0}, 'firePower':0}  , 'Tech':{'Score' : 0,'level': 0, 'science':0, 'engineering':0},  'Politics':{'influence':0, 'stability':0} , 'Special':{'chance': 0, 'moveLimit':2, 'aggression':80, 'creativity':20, 'materialism':60, 'prudence':40, 'bonusUnits': [], 'notes': []} , 'Friendship':{\"CHINA\": 0,\"USA\": 0,\"UK\": 0,\"FRANCE\": 0,\"JAPAN\": 0,\"GERMANY\": 0,\"SPAIN\": 0,\"ITALY\": 0,\"INDIA\": 0,\"NIGERIA\": 0,\"BRAZIL\": 0,\"IRAN\": 0,\"MEXICO\": 0,\"SOUTHKOREA\": 0,\"KENYA\": 0,\"VIETNAM\": 0,\"EGYPT\": 0,\"SOUTHAFRICA\": 0,\"PAKISTAN\": 0,\"INDONESIA\": 0}, 'Citizens':{'population': 0, 'contentment': 0, 'fertility': 0}, 'hints':'on', 'Nextmoves' : []}\n",
    "GERMANY       = {'Score': 70, 'Finance':{'wealth': 300,  'gold':25, 'gems':1, 'raremetals':30,  'oil':10,  'level': 'PickPocket'}   , 'War':{'might': 60, 'level': 'private', 'weapons':{'troops':120,'tanks':0,'gunboats':20,'destroyers':5,'carriers':1,'jets':10,'bombers':3,'Nukes':0}, 'firePower':0}  , 'Tech':{'Score' : 0,'level': 0, 'science':0, 'engineering':0},  'Politics':{'influence':0, 'stability':0} , 'Special':{'chance': 0, 'moveLimit':2, 'aggression':40, 'creativity':70, 'materialism':60, 'prudence':40, 'bonusUnits': [], 'notes': []} , 'Friendship':{\"CHINA\": 0,\"USA\": 0,\"UK\": 0,\"FRANCE\": 0,\"JAPAN\": 0,\"SPAIN\": 0,\"ITALY\": 0,\"INDIA\": 0,\"RUSSIA\": 0,\"NIGERIA\": 0,\"BRAZIL\": 0,\"IRAN\": 0,\"MEXICO\": 0,\"SOUTHKOREA\": 0,\"KENYA\": 0,\"VIETNAM\": 0,\"EGYPT\": 0,\"SOUTHAFRICA\": 0,\"PAKISTAN\": 0,\"INDONESIA\": 0}, 'Citizens':{'population': 0, 'contentment': 0, 'fertility': 0}, 'hints':'on', 'Nextmoves' : []}\n",
    "ITALY \t\t  = {'Score': 68, 'Finance':{'wealth': 200,  'gold':40, 'gems':2, 'raremetals':10,  'oil':30,  'level': 'PickPocket'}   , 'War':{'might': 60, 'level': 'private', 'weapons':{'troops':130,'tanks':0,'gunboats':20,'destroyers':5,'carriers':1,'jets':10,'bombers':3,'Nukes':0}, 'firePower':0}  , 'Tech':{'Score' : 0,'level': 0, 'science':0, 'engineering':0},  'Politics':{'influence':0, 'stability':0} , 'Special':{'chance': 0, 'moveLimit':2, 'aggression':50, 'creativity':70, 'materialism':60, 'prudence':50, 'bonusUnits': [], 'notes': []} , 'Friendship':{\"CHINA\": 0,\"USA\": 0,\"UK\": 0,\"FRANCE\": 0,\"JAPAN\": 0,\"GERMANY\": 0,\"SPAIN\": 0,\"INDIA\": 0,\"RUSSIA\": 0,\"NIGERIA\": 0,\"BRAZIL\": 0,\"IRAN\": 0,\"MEXICO\": 0,\"SOUTHKOREA\": 0,\"KENYA\": 0,\"VIETNAM\": 0,\"EGYPT\": 0,\"SOUTHAFRICA\": 0,\"PAKISTAN\": 0,\"INDONESIA\": 0} , 'Citizens':{'population': 0, 'contentment': 0, 'fertility': 0}, 'hints':'on', 'Nextmoves' : []}\n",
    "SPAIN \t\t  = {'Score': 68, 'Finance':{'wealth': 200,  'gold':45, 'gems':2, 'raremetals':10,  'oil':20,  'level': 'PickPocket'}   , 'War':{'might': 60, 'level': 'private', 'weapons':{'troops':130,'tanks':0,'gunboats':20,'destroyers':5,'carriers':1,'jets':10,'bombers':3,'Nukes':0}, 'firePower':0}  , 'Tech':{'Score' : 0,'level': 0, 'science':0, 'engineering':0},  'Politics':{'influence':0, 'stability':0} , 'Special':{'chance': 0, 'moveLimit':2, 'aggression':50, 'creativity':70, 'materialism':50, 'prudence':60, 'bonusUnits': [], 'notes': []} , 'Friendship':{\"CHINA\": 0,\"USA\": 0,\"UK\": 0,\"FRANCE\": 0,\"JAPAN\": 0,\"GERMANY\": 0,\"ITALY\": 0,\"INDIA\": 0,\"RUSSIA\": 0,\"NIGERIA\": 0,\"BRAZIL\": 0,\"IRAN\": 0,\"MEXICO\": 0,\"SOUTHKOREA\": 0,\"KENYA\": 0,\"VIETNAM\": 0,\"EGYPT\": 0,\"SOUTHAFRICA\": 0,\"PAKISTAN\": 0,\"INDONESIA\": 0} , 'Citizens':{'population': 0, 'contentment': 0, 'fertility': 0}, 'hints':'on', 'Nextmoves' : []}\n",
    "FRANCE        = {'Score': 74, 'Finance':{'wealth': 200,  'gold':40, 'gems':5, 'raremetals':10,  'oil':10,  'level': 'PickPocket'}   , 'War':{'might': 60, 'level': 'private', 'weapons':{'troops':140,'tanks':0,'gunboats':20,'destroyers':5,'carriers':1,'jets':10,'bombers':3,'Nukes':0}, 'firePower':0}  , 'Tech':{'Score' : 0,'level': 0, 'science':0, 'engineering':0},  'Politics':{'influence':0, 'stability':0} , 'Special':{'chance': 0, 'moveLimit':2, 'aggression':60, 'creativity':70, 'materialism':40, 'prudence':50, 'bonusUnits': [], 'notes': []} , 'Friendship':{\"CHINA\": 0,\"USA\": 0,\"UK\": 0,\"JAPAN\": 0,\"GERMANY\": 0,\"SPAIN\": 0,\"ITALY\": 0,\"INDIA\": 0,\"RUSSIA\": 0,\"NIGERIA\": 0,\"BRAZIL\": 0,\"IRAN\": 0,\"MEXICO\": 0,\"SOUTHKOREA\": 0,\"KENYA\": 0,\"VIETNAM\": 0,\"EGYPT\": 0,\"SOUTHAFRICA\": 0,\"PAKISTAN\": 0,\"INDONESIA\": 0}, 'Citizens':{'population': 0, 'contentment': 0, 'fertility': 0}, 'hints':'on', 'Nextmoves' : []}\n",
    "JAPAN         = {'Score': 70, 'Finance':{'wealth': 350,  'gold':35, 'gems':12, 'raremetals':100, 'oil':20,  'level': 'PickPocket'}  , 'War':{'might': 60, 'level': 'private', 'weapons':{'troops':220,'tanks':0,'gunboats':20,'destroyers':5,'carriers':1,'jets':10,'bombers':3,'Nukes':0}, 'firePower':0}  , 'Tech':{'Score' : 0,'level': 0, 'science':0, 'engineering':0},  'Politics':{'influence':0, 'stability':0} , 'Special':{'chance': 0, 'moveLimit':2, 'aggression':30, 'creativity':70, 'materialism':40, 'prudence':40, 'bonusUnits': [], 'notes': []} , 'Friendship':{\"CHINA\": 0,\"USA\": 0,\"UK\": 0,\"FRANCE\": 0,\"GERMANY\": 0,\"SPAIN\": 0,\"ITALY\": 0,\"INDIA\": 0,\"RUSSIA\": 0,\"NIGERIA\": 0,\"BRAZIL\": 0,\"IRAN\": 0,\"MEXICO\": 0,\"SOUTHKOREA\": 0,\"KENYA\": 0,\"VIETNAM\": 0,\"EGYPT\": 0,\"SOUTHAFRICA\": 0,\"PAKISTAN\": 0,\"INDONESIA\": 0} , 'Citizens':{'population': 0, 'contentment': 0, 'fertility': 0}, 'hints':'on', 'Nextmoves' : []}\n",
    "BRAZIL        = {'Score': 55, 'Finance':{'wealth': 100,  'gold':15, 'gems':23, 'raremetals':30,  'oil':80,  'level': 'PickPocket'}  , 'War':{'might': 60, 'level': 'private', 'weapons':{'troops':100,'tanks':0,'gunboats':20,'destroyers':5,'carriers':0,'jets':10,'bombers':3,'Nukes':0}, 'firePower':0}  , 'Tech':{'Score' : 0,'level': 0, 'science':0, 'engineering':0},  'Politics':{'influence':0, 'stability':0} , 'Special':{'chance': 0, 'moveLimit':2, 'aggression':60, 'creativity':70, 'materialism':70, 'prudence':70, 'bonusUnits': [], 'notes': []} , 'Friendship':{\"CHINA\": 0,\"USA\": 0,\"UK\": 0,\"FRANCE\": 0,\"JAPAN\": 0,\"GERMANY\": 0,\"SPAIN\": 0,\"ITALY\": 0,\"INDIA\": 0,\"RUSSIA\": 0,\"NIGERIA\": 0,\"IRAN\": 0,\"MEXICO\": 0,\"SOUTHKOREA\": 0,\"KENYA\": 0,\"VIETNAM\": 0,\"EGYPT\": 0,\"SOUTHAFRICA\": 0,\"PAKISTAN\": 0,\"INDONESIA\": 0}, 'Citizens':{'population': 0, 'contentment': 0, 'fertility': 0}, 'hints':'on', 'Nextmoves' : []}\n",
    "SOUTHKOREA    = {'Score': 50, 'Finance':{'wealth': 200,  'gold':25, 'gems':22, 'raremetals':80,  'oil':10,  'level': 'PickPocket'}  , 'War':{'might': 60, 'level': 'private', 'weapons':{'troops':100,'tanks':0,'gunboats':20,'destroyers':5,'carriers':0,'jets':10,'bombers':3,'Nukes':0}, 'firePower':0}  , 'Tech':{'Score' : 0,'level': 0, 'science':0, 'engineering':0},  'Politics':{'influence':0, 'stability':0} , 'Special':{'chance': 0, 'moveLimit':2, 'aggression':40, 'creativity':70, 'materialism':40, 'prudence':60, 'bonusUnits': [], 'notes': []} , 'Friendship':{\"CHINA\": 0,\"USA\": 0,\"UK\": 0,\"FRANCE\": 0,\"JAPAN\": 0,\"GERMANY\": 0,\"SPAIN\": 0,\"ITALY\": 0,\"INDIA\": 0,\"RUSSIA\": 0,\"NIGERIA\": 0,\"BRAZIL\": 0,\"IRAN\": 0,\"MEXICO\": 0,\"KENYA\": 0,\"VIETNAM\": 0,\"EGYPT\": 0,\"SOUTHAFRICA\": 0,\"PAKISTAN\": 0,\"INDONESIA\": 0} , 'Citizens':{'population': 0, 'contentment': 0, 'fertility': 0}, 'hints':'on', 'Nextmoves' : []}\n",
    "SOUTHAFRICA   = {'Score': 48, 'Finance':{'wealth': 100,  'gold':45, 'gems':27, 'raremetals':10,  'oil':60,  'level': 'PickPocket'}  , 'War':{'might': 40, 'level': 'private', 'weapons':{'troops':100,'tanks':0,'gunboats':30,'destroyers':5,'carriers':0,'jets':10,'bombers':3,'Nukes':0}, 'firePower':0}  , 'Tech':{'Score' : 0,'level': 0, 'science':0, 'engineering':0},  'Politics':{'influence':0, 'stability':0} , 'Special':{'chance': 0, 'moveLimit':2, 'aggression':40, 'creativity':70, 'materialism':70, 'prudence':50, 'bonusUnits': [], 'notes': []} , 'Friendship':{\"CHINA\": 0,\"USA\": 0,\"UK\": 0,\"FRANCE\": 0,\"JAPAN\": 0,\"GERMANY\": 0,\"SPAIN\": 0,\"ITALY\": 0,\"INDIA\": 0,\"RUSSIA\": 0,\"NIGERIA\": 0,\"BRAZIL\": 0,\"IRAN\": 0,\"MEXICO\": 0,\"SOUTHKOREA\": 0,\"KENYA\": 0,\"VIETNAM\": 0,\"EGYPT\": 0,\"PAKISTAN\": 0,\"INDONESIA\": 0} , 'Citizens':{'population': 0, 'contentment': 0, 'fertility': 0}, 'hints':'on', 'Nextmoves' : []}\n",
    "PAKISTAN      = {'Score': 45, 'Finance':{'wealth': 100,  'gold':40, 'gems':23, 'raremetals':10,  'oil':80,  'level': 'PickPocket'}  , 'War':{'might': 40, 'level': 'private', 'weapons':{'troops':400,'tanks':10,'gunboats':30,'destroyers':5,'carriers':0,'jets':10,'bombers':3,'Nukes':0}, 'firePower':0}  , 'Tech':{'Score' : 0,'level': 0, 'science':0, 'engineering':0},  'Politics':{'influence':0, 'stability':0} , 'Special':{'chance': 0, 'moveLimit':2, 'aggression':70, 'creativity':70, 'materialism':80, 'prudence':40, 'bonusUnits': [], 'notes': []} , 'Friendship':{\"CHINA\": 0,\"USA\": 0,\"UK\": 0,\"FRANCE\": 0,\"JAPAN\": 0,\"GERMANY\": 0,\"SPAIN\": 0,\"ITALY\": 0,\"INDIA\": 0,\"RUSSIA\": 0,\"NIGERIA\": 0,\"BRAZIL\": 0,\"IRAN\": 0,\"MEXICO\": 0,\"SOUTHKOREA\": 0,\"KENYA\": 0,\"VIETNAM\": 0,\"EGYPT\": 0,\"SOUTHAFRICA\": 0,\"INDONESIA\": 0}, 'Citizens':{'population': 0, 'contentment': 0, 'fertility': 0}, 'hints':'on', 'Nextmoves' : []}\n",
    "INDONESIA     = {'Score': 40, 'Finance':{'wealth': 100,  'gold':20, 'gems':23, 'raremetals':40,  'oil':30,  'level': 'PickPocket'}  , 'War':{'might': 40, 'level': 'private', 'weapons':{'troops':300,'tanks':10,'gunboats':30,'destroyers':5,'carriers':0,'jets':10,'bombers':3,'Nukes':0}, 'firePower':0}  , 'Tech':{'Score' : 0,'level': 0, 'science':0, 'engineering':0},  'Politics':{'influence':0, 'stability':0} , 'Special':{'chance': 0, 'moveLimit':2, 'aggression':40, 'creativity':70, 'materialism':70, 'prudence':60, 'bonusUnits': [], 'notes': []} , 'Friendship':{\"CHINA\": 0,\"USA\": 0,\"UK\": 0,\"FRANCE\": 0,\"JAPAN\": 0,\"GERMANY\": 0,\"SPAIN\": 0,\"ITALY\": 0,\"INDIA\": 0,\"RUSSIA\": 0,\"NIGERIA\": 0,\"BRAZIL\": 0,\"IRAN\": 0,\"MEXICO\": 0,\"SOUTHKOREA\": 0,\"KENYA\": 0,\"VIETNAM\": 0,\"EGYPT\": 0,\"SOUTHAFRICA\": 0,\"PAKISTAN\": 0,} , 'Citizens':{'population': 0, 'contentment': 0, 'fertility': 0}, 'hints':'on', 'Nextmoves' : []}\n",
    "NIGERIA       = {'Score': 55, 'Finance':{'wealth': 100,  'gold':40, 'gems':26, 'raremetals':10,  'oil':90,  'level': 'PickPocket'}  , 'War':{'might': 40, 'level': 'private', 'weapons':{'troops':100,'tanks':10,'gunboats':30,'destroyers':5,'carriers':0,'jets':10,'bombers':3,'Nukes':0}, 'firePower':0}  , 'Tech':{'Score' : 0,'level': 0, 'science':0, 'engineering':0},  'Politics':{'influence':0, 'stability':0} , 'Special':{'chance': 0, 'moveLimit':2, 'aggression':40, 'creativity':70, 'materialism':80, 'prudence':55, 'bonusUnits': [], 'notes': []} , 'Friendship':{\"CHINA\": 0,\"USA\": 0,\"UK\": 0,\"FRANCE\": 0,\"JAPAN\": 0,\"GERMANY\": 0,\"SPAIN\": 0,\"ITALY\": 0,\"INDIA\": 0,\"RUSSIA\": 0,\"BRAZIL\": 0,\"IRAN\": 0,\"MEXICO\": 0,\"SOUTHKOREA\": 0,\"KENYA\": 0,\"VIETNAM\": 0,\"EGYPT\": 0,\"SOUTHAFRICA\": 0,\"PAKISTAN\": 0,\"INDONESIA\": 0} , 'Citizens':{'population': 0, 'contentment': 0, 'fertility': 0}, 'hints':'on', 'Nextmoves' : []}\n",
    "MEXICO        = {'Score': 50, 'Finance':{'wealth': 100,  'gold':20, 'gems':23, 'raremetals':30,  'oil':90,  'level': 'PickPocket'}  , 'War':{'might': 40, 'level': 'private', 'weapons':{'troops':150,'tanks':10,'gunboats':30,'destroyers':5,'carriers':0,'jets':10,'bombers':3,'Nukes':0}, 'firePower':0}  , 'Tech':{'Score' : 0,'level': 0, 'science':0, 'engineering':0},  'Politics':{'influence':0, 'stability':0} , 'Special':{'chance': 0, 'moveLimit':2, 'aggression':50, 'creativity':70, 'materialism':70, 'prudence':40, 'bonusUnits': [], 'notes': []} , 'Friendship':{\"CHINA\": 0,\"USA\": 0,\"UK\": 0,\"FRANCE\": 0,\"JAPAN\": 0,\"GERMANY\": 0,\"SPAIN\": 0,\"ITALY\": 0,\"INDIA\": 0,\"RUSSIA\": 0,\"NIGERIA\": 0,\"BRAZIL\": 0,\"IRAN\": 0,\"SOUTHKOREA\": 0,\"KENYA\": 0,\"VIETNAM\": 0,\"EGYPT\": 0,\"SOUTHAFRICA\": 0,\"PAKISTAN\": 0,\"INDONESIA\": 0} , 'Citizens':{'population': 0, 'contentment': 0, 'fertility': 0}, 'hints':'on', 'Nextmoves' : []}\n",
    "EGYPT         = {'Score': 48, 'Finance':{'wealth': 100,  'gold':60, 'gems':24, 'raremetals':10,  'oil':110, 'level': 'PickPocket'}  , 'War':{'might': 40, 'level': 'private', 'weapons':{'troops':100,'tanks':10,'gunboats':30,'destroyers':5,'carriers':0,'jets':10,'bombers':3,'Nukes':0}, 'firePower':0}  , 'Tech':{'Score' : 0,'level': 0, 'science':0, 'engineering':0},  'Politics':{'influence':0, 'stability':0} , 'Special':{'chance': 0, 'moveLimit':2, 'aggression':60, 'creativity':70, 'materialism':60, 'prudence':65, 'bonusUnits': [], 'notes': []} , 'Friendship':{\"CHINA\": 0,\"USA\": 0,\"UK\": 0,\"FRANCE\": 0,\"JAPAN\": 0,\"GERMANY\": 0,\"SPAIN\": 0,\"ITALY\": 0,\"INDIA\": 0,\"RUSSIA\": 0,\"NIGERIA\": 0,\"BRAZIL\": 0,\"IRAN\": 0,\"MEXICO\": 0,\"SOUTHKOREA\": 0,\"KENYA\": 0,\"VIETNAM\": 0,\"SOUTHAFRICA\": 0,\"PAKISTAN\": 0,\"INDONESIA\": 0} , 'Citizens':{'population': 0, 'contentment': 0, 'fertility': 0},'hints':'on', 'Nextmoves' : []}\n",
    "VIETNAM       = {'Score': 48, 'Finance':{'wealth': 150,  'gold':20, 'gems':22, 'raremetals':130, 'oil':30,  'level': 'PickPocket'}  , 'War':{'might': 40, 'level': 'private', 'weapons':{'troops':100,'tanks':10,'gunboats':30,'destroyers':5,'carriers':0,'jets':10,'bombers':3,'Nukes':0}, 'firePower':0}  , 'Tech':{'Score' : 0,'level': 0, 'science':0, 'engineering':0},  'Politics':{'influence':0, 'stability':0} , 'Special':{'chance': 0, 'moveLimit':2, 'aggression':40, 'creativity':70, 'materialism':70, 'prudence':45, 'bonusUnits': [], 'notes': []} , 'Friendship':{\"CHINA\": 0,\"USA\": 0,\"UK\": 0,\"FRANCE\": 0,\"JAPAN\": 0,\"GERMANY\": 0,\"SPAIN\": 0,\"ITALY\": 0,\"INDIA\": 0,\"RUSSIA\": 0,\"NIGERIA\": 0,\"BRAZIL\": 0,\"IRAN\": 0,\"MEXICO\": 0,\"SOUTHKOREA\": 0,\"KENYA\": 0,\"EGYPT\": 0,\"SOUTHAFRICA\": 0,\"PAKISTAN\": 0,\"INDONESIA\": 0}, 'Citizens':{'population': 0, 'contentment': 0, 'fertility': 0}, 'hints':'on', 'Nextmoves' : []}\n",
    "IRAN          = {'Score': 52, 'Finance':{'wealth': 100,  'gold':60, 'gems':21, 'raremetals':10,  'oil':180, 'level': 'PickPocket'}  , 'War':{'might': 40, 'level': 'private', 'weapons':{'troops':100,'tanks':10,'gunboats':30,'destroyers':5,'carriers':0,'jets':10,'bombers':3,'Nukes':0}, 'firePower':0}  , 'Tech':{'Score' : 0,'level': 0, 'science':0, 'engineering':0},  'Politics':{'influence':0, 'stability':0} , 'Special':{'chance': 0, 'moveLimit':2, 'aggression':70, 'creativity':70, 'materialism':20, 'prudence':50, 'bonusUnits': [], 'notes': []} , 'Friendship':{\"CHINA\": 0,\"USA\": 0,\"UK\": 0,\"FRANCE\": 0,\"JAPAN\": 0,\"GERMANY\": 0,\"SPAIN\": 0,\"ITALY\": 0,\"INDIA\": 0,\"RUSSIA\": 0,\"NIGERIA\": 0,\"BRAZIL\": 0,\"MEXICO\": 0,\"SOUTHKOREA\": 0,\"KENYA\": 0,\"VIETNAM\": 0,\"EGYPT\": 0,\"SOUTHAFRICA\": 0,\"PAKISTAN\": 0,\"INDONESIA\": 0} , 'Citizens':{'population': 0, 'contentment': 0, 'fertility': 0}, 'hints':'on', 'Nextmoves' : []}\n",
    "KENYA         = {'Score': 48, 'Finance':{'wealth': 100,  'gold':50, 'gems':27, 'raremetals':10,  'oil':80,  'level': 'PickPocket'}  , 'War':{'might': 40, 'level': 'private', 'weapons':{'troops':100,'tanks':10,'gunboats':30,'destroyers':5,'carriers':0,'jets':10,'bombers':3,'Nukes':0}, 'firePower':0}  , 'Tech':{'Score' : 0,'level': 0, 'science':0, 'engineering':0},  'Politics':{'influence':0, 'stability':0} , 'Special':{'chance': 0, 'moveLimit':2, 'aggression':50, 'creativity':70, 'materialism':70, 'prudence':45, 'bonusUnits': [], 'notes': []} , 'Friendship':{\"CHINA\": 0,\"USA\": 0,\"UK\": 0,\"FRANCE\": 0,\"JAPAN\": 0,\"GERMANY\": 0,\"SPAIN\": 0,\"ITALY\": 0,\"INDIA\": 0,\"RUSSIA\": 0,\"NIGERIA\": 0,\"BRAZIL\": 0,\"IRAN\": 0,\"MEXICO\": 0,\"SOUTHKOREA\": 0,\"VIETNAM\": 0,\"EGYPT\": 0,\"SOUTHAFRICA\": 0,\"PAKISTAN\": 0,\"INDONESIA\": 0} , 'Citizens':{'population': 0, 'contentment': 0, 'fertility': 0}, 'hints':'on', 'Nextmoves' : []}\n"
   ]
  },
  {
   "cell_type": "code",
   "execution_count": 64,
   "metadata": {},
   "outputs": [
    {
     "data": {
      "text/plain": [
       "{'CHINA': 0,\n",
       " 'USA': 0,\n",
       " 'UK': 0,\n",
       " 'FRANCE': 0,\n",
       " 'JAPAN': 0,\n",
       " 'GERMANY': 0,\n",
       " 'ITALY': 0,\n",
       " 'INDIA': 0,\n",
       " 'RUSSIA': 0,\n",
       " 'NIGERIA': 0,\n",
       " 'BRAZIL': 0,\n",
       " 'IRAN': 0,\n",
       " 'MEXICO': 0,\n",
       " 'SOUTHKOREA': 0,\n",
       " 'KENYA': 0,\n",
       " 'VIETNAM': 0,\n",
       " 'EGYPT': 0,\n",
       " 'SOUTHAFRICA': 0,\n",
       " 'PAKISTAN': 0,\n",
       " 'INDONESIA': 0}"
      ]
     },
     "execution_count": 64,
     "metadata": {},
     "output_type": "execute_result"
    }
   ],
   "source": [
    "SPAIN['Friendship']"
   ]
  },
  {
   "cell_type": "code",
   "execution_count": 25,
   "metadata": {},
   "outputs": [],
   "source": [
    "techLevel = 3\n",
    "allowedAssets = allowedTech(techLevel)"
   ]
  },
  {
   "cell_type": "code",
   "execution_count": 27,
   "metadata": {},
   "outputs": [
    {
     "data": {
      "text/plain": [
       "('troops', 29)"
      ]
     },
     "execution_count": 27,
     "metadata": {},
     "output_type": "execute_result"
    }
   ],
   "source": [
    "import random\n",
    "random.choice(allowedAssets)"
   ]
  },
  {
   "cell_type": "code",
   "execution_count": null,
   "metadata": {},
   "outputs": [],
   "source": []
  }
 ],
 "metadata": {
  "kernelspec": {
   "display_name": "Python 3",
   "language": "python",
   "name": "python3"
  },
  "language_info": {
   "codemirror_mode": {
    "name": "ipython",
    "version": 3
   },
   "file_extension": ".py",
   "mimetype": "text/x-python",
   "name": "python",
   "nbconvert_exporter": "python",
   "pygments_lexer": "ipython3",
   "version": "3.7.6"
  }
 },
 "nbformat": 4,
 "nbformat_minor": 4
}
