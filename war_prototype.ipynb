{
 "cells": [
  {
   "cell_type": "code",
   "execution_count": 62,
   "metadata": {},
   "outputs": [
    {
     "name": "stdout",
     "output_type": "stream",
     "text": [
      "[[10, 8], 'USA']\n",
      "[[6, 10], 'CHINA']\n",
      "[[2, 4], 'INDIA']\n",
      "[[1, 8], 'RUSSIA']\n",
      "[[2, 8], 'GERMANY']\n",
      "[[2, 8], 'FRANCE']\n",
      "[[3, 2], 'JAPAN']\n",
      "[[1, 8], 'BRAZIL']\n",
      "[[1, 8], 'SOUTHKOREA']\n",
      "[[1, 8], 'SOUTHAFRICA']\n"
     ]
    }
   ],
   "source": [
    "# ARRAY_ORDER = [TOTALSCORE, TRADESCORE]\n",
    "\n",
    "maxPP = 23210\n",
    "maxGDP = 19\n",
    "\n",
    "USA           = [round(19 / maxGDP * 10), round(19490 / maxPP * 10)]\n",
    "CHINA         = [round(12 / maxGDP * 10), round(23210 / maxPP * 10)]\n",
    "INDIA         = [round(3 / maxGDP * 10), round(9474 / maxPP * 10)]\n",
    "RUSSIA        = [round(2 / maxGDP * 10), round(19490 / maxPP * 10)]\n",
    "GERMANY       = [round(4 / maxGDP * 10), round(19490 / maxPP * 10)]\n",
    "FRANCE        = [round(3 / maxGDP * 10), round(19490 / maxPP * 10)]\n",
    "JAPAN         = [round(5 / maxGDP * 10), round(5443 / maxPP * 10)]\n",
    "BRAZIL        = [round(2 / maxGDP * 10), round(19490 / maxPP * 10)]\n",
    "SOUTHKOREA    = [round(2 / maxGDP * 10), round(19490 / maxPP * 10)]\n",
    "SOUTHAFRICA   =  [round(1 / maxGDP * 10), round(19490 / maxPP * 10)]\n",
    "\n",
    "NATION_ARRAY = [[USA,'USA'],[CHINA,'CHINA'],[INDIA,'INDIA'],[RUSSIA,'RUSSIA'],[GERMANY,'GERMANY'],[FRANCE,'FRANCE'],[JAPAN,'JAPAN'],[BRAZIL,'BRAZIL'],[SOUTHKOREA,'SOUTHKOREA'],[SOUTHAFRICA,'SOUTHAFRICA']]\n",
    "# TRADE INITIALISED BY PP\n",
    "# TOTAL INITIALISED BY GDP\n",
    "\n",
    "year = 1949\n",
    "\n",
    "\n",
    "\n",
    "print('Good morning commander.....')\n",
    "print()\n",
    "\n",
    "\n",
    "\n",
    "\n",
    "\n",
    "\n",
    "\n",
    "\n",
    "\n",
    "\n",
    "\n",
    "\n",
    "\n",
    "for nation in NATION_ARRAY:\n",
    "    print(nation)"
   ]
  },
  {
   "cell_type": "code",
   "execution_count": 63,
   "metadata": {},
   "outputs": [],
   "source": [
    "def trade(NATION_ARRAY, index):\n",
    "    print('Trade Level up!')\n",
    "    \n",
    "    \n",
    "    temp_array = NATION_ARRAY[:]\n",
    "    temp_array.pop(index)\n",
    "    \n",
    "\n",
    "\n",
    "\n",
    "def main(year):\n",
    "    year = year + 1\n",
    "    print('xxxxxxxxxxxxxxxxxxxxxxxxxxxxxxxxxxxxxxxx')\n",
    "    print('x               ' + str(year) + '                   x')\n",
    "    print('xxxxxxxxxxxxxxxxxxxxxxxxxxxxxxxxxxxxxxxx')"
   ]
  },
  {
   "cell_type": "code",
   "execution_count": 64,
   "metadata": {},
   "outputs": [
    {
     "name": "stdout",
     "output_type": "stream",
     "text": [
      "xxxxxxxxxxxxxxxxxxxxxxxxxxxxxxxxxxxxxxxx\n",
      "x               1950                   x\n",
      "xxxxxxxxxxxxxxxxxxxxxxxxxxxxxxxxxxxxxxxx\n"
     ]
    }
   ],
   "source": [
    "main(year)"
   ]
  },
  {
   "cell_type": "code",
   "execution_count": 77,
   "metadata": {},
   "outputs": [
    {
     "data": {
      "text/plain": [
       "[[6, 10], 'CHINA']"
      ]
     },
     "execution_count": 77,
     "metadata": {},
     "output_type": "execute_result"
    }
   ],
   "source": [
    "temp_array = NATION_ARRAY[:]\n",
    "temp_array.pop(1)"
   ]
  },
  {
   "cell_type": "code",
   "execution_count": 78,
   "metadata": {},
   "outputs": [
    {
     "data": {
      "text/plain": [
       "[[[10, 8], 'USA'],\n",
       " [[2, 4], 'INDIA'],\n",
       " [[1, 8], 'RUSSIA'],\n",
       " [[2, 8], 'GERMANY'],\n",
       " [[2, 8], 'FRANCE'],\n",
       " [[3, 2], 'JAPAN'],\n",
       " [[1, 8], 'BRAZIL'],\n",
       " [[1, 8], 'SOUTHKOREA'],\n",
       " [[1, 8], 'SOUTHAFRICA']]"
      ]
     },
     "execution_count": 78,
     "metadata": {},
     "output_type": "execute_result"
    }
   ],
   "source": [
    "temp_array\n"
   ]
  },
  {
   "cell_type": "code",
   "execution_count": 79,
   "metadata": {},
   "outputs": [
    {
     "data": {
      "text/plain": [
       "[[[10, 8], 'USA'],\n",
       " [[6, 10], 'CHINA'],\n",
       " [[2, 4], 'INDIA'],\n",
       " [[1, 8], 'RUSSIA'],\n",
       " [[2, 8], 'GERMANY'],\n",
       " [[2, 8], 'FRANCE'],\n",
       " [[3, 2], 'JAPAN'],\n",
       " [[1, 8], 'BRAZIL'],\n",
       " [[1, 8], 'SOUTHKOREA'],\n",
       " [[1, 8], 'SOUTHAFRICA']]"
      ]
     },
     "execution_count": 79,
     "metadata": {},
     "output_type": "execute_result"
    }
   ],
   "source": [
    "NATION_ARRAY"
   ]
  },
  {
   "cell_type": "code",
   "execution_count": null,
   "metadata": {},
   "outputs": [],
   "source": []
  }
 ],
 "metadata": {
  "kernelspec": {
   "display_name": "Python 3",
   "language": "python",
   "name": "python3"
  },
  "language_info": {
   "codemirror_mode": {
    "name": "ipython",
    "version": 3
   },
   "file_extension": ".py",
   "mimetype": "text/x-python",
   "name": "python",
   "nbconvert_exporter": "python",
   "pygments_lexer": "ipython3",
   "version": "3.7.6"
  }
 },
 "nbformat": 4,
 "nbformat_minor": 4
}
