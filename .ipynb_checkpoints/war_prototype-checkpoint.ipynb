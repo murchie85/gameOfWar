{
 "cells": [
  {
   "cell_type": "code",
   "execution_count": 80,
   "metadata": {},
   "outputs": [
    {
     "name": "stdout",
     "output_type": "stream",
     "text": [
      "Good morning commander..... \n",
      "\n",
      "The year is 1949, the devestating and costly war has finally come to an end.\n",
      "It is your responsibility to chose a country and lead them to greatness. \n",
      "Which one will you chose? \n",
      "[[10, 8], 'USA']\n",
      "[[6, 10], 'CHINA']\n",
      "[[2, 4], 'INDIA']\n",
      "[[1, 8], 'RUSSIA']\n",
      "[[2, 8], 'GERMANY']\n",
      "[[2, 8], 'FRANCE']\n",
      "[[3, 2], 'JAPAN']\n",
      "[[1, 8], 'BRAZIL']\n",
      "[[1, 8], 'SOUTHKOREA']\n",
      "[[1, 8], 'SOUTHAFRICA']\n"
     ]
    }
   ],
   "source": [
    "# ---------------------------------------------------------------------\n",
    "#   PROGRAM SPEC \n",
    "#   NAME: gameOfWar\n",
    "#   DATE OF CREATION: 16 JUNE 2020\n",
    "#   PROGRAM TYPE: Python Text game\n",
    "#   SUMMARY: This program runs a sereis of standard if, for, while loops\n",
    "#            user inputs and write to file methods. \n",
    "#            The aim of the game is for a user to play through a series\n",
    "#            of time and improve their overall selected countries score. \n",
    "#           \n",
    "# ---------------------------------------------------------------------\n",
    "\n",
    "# ---------------------------------------------------------------------\n",
    "# UTILITIES \n",
    "# ---------------------------------------------------------------------\n",
    "import sys\n",
    "import time\n",
    "\n",
    "# BUFFER PRINT\n",
    "\n",
    "def slow_print(s):\n",
    "    for c in s:\n",
    "        sys.stdout.write(c)\n",
    "        sys.stdout.flush()\n",
    "        time.sleep(0.2)\n",
    "\n",
    "\n",
    "def med_print(s):\n",
    "    for c in s:\n",
    "        sys.stdout.write(c)\n",
    "        sys.stdout.flush()\n",
    "        time.sleep(0.10)\n",
    "\n",
    "def fast_print(s):\n",
    "    for c in s:\n",
    "        sys.stdout.write(c)\n",
    "        sys.stdout.flush()\n",
    "        time.sleep(0.03)\n",
    "\n",
    "def superfast_print(s):\n",
    "    for c in s:\n",
    "        sys.stdout.write(c)\n",
    "        sys.stdout.flush()\n",
    "        time.sleep(0.005)\n",
    "\n",
    "# ---------------------------------------------------------------------\n",
    "# END UTILITIES\n",
    "# ---------------------------------------------------------------------\n",
    "\n",
    "\n",
    "\n",
    "maxPP = 23210\n",
    "maxGDP = 19\n",
    "\n",
    "USA           = [round(19 / maxGDP * 10), round(19490 / maxPP * 10)]\n",
    "CHINA         = [round(12 / maxGDP * 10), round(23210 / maxPP * 10)]\n",
    "INDIA         = [round(3 / maxGDP * 10), round(9474 / maxPP * 10)]\n",
    "RUSSIA        = [round(2 / maxGDP * 10), round(19490 / maxPP * 10)]\n",
    "GERMANY       = [round(4 / maxGDP * 10), round(19490 / maxPP * 10)]\n",
    "FRANCE        = [round(3 / maxGDP * 10), round(19490 / maxPP * 10)]\n",
    "JAPAN         = [round(5 / maxGDP * 10), round(5443 / maxPP * 10)]\n",
    "BRAZIL        = [round(2 / maxGDP * 10), round(19490 / maxPP * 10)]\n",
    "SOUTHKOREA    = [round(2 / maxGDP * 10), round(19490 / maxPP * 10)]\n",
    "SOUTHAFRICA   =  [round(1 / maxGDP * 10), round(19490 / maxPP * 10)]\n",
    "\n",
    "NATION_ARRAY = [[USA,'USA'],[CHINA,'CHINA'],[INDIA,'INDIA'],[RUSSIA,'RUSSIA'],[GERMANY,'GERMANY'],[FRANCE,'FRANCE'],[JAPAN,'JAPAN'],[BRAZIL,'BRAZIL'],[SOUTHKOREA,'SOUTHKOREA'],[SOUTHAFRICA,'SOUTHAFRICA']]\n",
    "# TRADE INITIALISED BY PP\n",
    "# TOTAL INITIALISED BY GDP\n",
    "\n",
    "year = 1949\n",
    "\n",
    "\n",
    "\n",
    "med_print('Good morning commander..... \\n')\n",
    "print('')\n",
    "fast_print('The year is 1949, the devestating and costly war has finally come to an end.\\nIt is your responsibility to chose a country and lead them to greatness. \\n')\n",
    "med_print('Which one will you chose? \\n')\n"
   ]
  },
  {
   "cell_type": "code",
   "execution_count": 86,
   "metadata": {},
   "outputs": [
    {
     "name": "stdout",
     "output_type": "stream",
     "text": [
      "*****************MENU*******************\n",
      "[1] View Nation List\n"
     ]
    },
    {
     "ename": "KeyboardInterrupt",
     "evalue": "",
     "output_type": "error",
     "traceback": [
      "\u001b[0;31m---------------------------------------------------------------------------\u001b[0m",
      "\u001b[0;31mKeyboardInterrupt\u001b[0m                         Traceback (most recent call last)",
      "\u001b[0;32m~/opt/anaconda3/lib/python3.7/site-packages/ipykernel/kernelbase.py\u001b[0m in \u001b[0;36m_input_request\u001b[0;34m(self, prompt, ident, parent, password)\u001b[0m\n\u001b[1;32m    883\u001b[0m             \u001b[0;32mtry\u001b[0m\u001b[0;34m:\u001b[0m\u001b[0;34m\u001b[0m\u001b[0;34m\u001b[0m\u001b[0m\n\u001b[0;32m--> 884\u001b[0;31m                 \u001b[0mident\u001b[0m\u001b[0;34m,\u001b[0m \u001b[0mreply\u001b[0m \u001b[0;34m=\u001b[0m \u001b[0mself\u001b[0m\u001b[0;34m.\u001b[0m\u001b[0msession\u001b[0m\u001b[0;34m.\u001b[0m\u001b[0mrecv\u001b[0m\u001b[0;34m(\u001b[0m\u001b[0mself\u001b[0m\u001b[0;34m.\u001b[0m\u001b[0mstdin_socket\u001b[0m\u001b[0;34m,\u001b[0m \u001b[0;36m0\u001b[0m\u001b[0;34m)\u001b[0m\u001b[0;34m\u001b[0m\u001b[0;34m\u001b[0m\u001b[0m\n\u001b[0m\u001b[1;32m    885\u001b[0m             \u001b[0;32mexcept\u001b[0m \u001b[0mException\u001b[0m\u001b[0;34m:\u001b[0m\u001b[0;34m\u001b[0m\u001b[0;34m\u001b[0m\u001b[0m\n",
      "\u001b[0;32m~/opt/anaconda3/lib/python3.7/site-packages/jupyter_client/session.py\u001b[0m in \u001b[0;36mrecv\u001b[0;34m(self, socket, mode, content, copy)\u001b[0m\n\u001b[1;32m    802\u001b[0m         \u001b[0;32mtry\u001b[0m\u001b[0;34m:\u001b[0m\u001b[0;34m\u001b[0m\u001b[0;34m\u001b[0m\u001b[0m\n\u001b[0;32m--> 803\u001b[0;31m             \u001b[0mmsg_list\u001b[0m \u001b[0;34m=\u001b[0m \u001b[0msocket\u001b[0m\u001b[0;34m.\u001b[0m\u001b[0mrecv_multipart\u001b[0m\u001b[0;34m(\u001b[0m\u001b[0mmode\u001b[0m\u001b[0;34m,\u001b[0m \u001b[0mcopy\u001b[0m\u001b[0;34m=\u001b[0m\u001b[0mcopy\u001b[0m\u001b[0;34m)\u001b[0m\u001b[0;34m\u001b[0m\u001b[0;34m\u001b[0m\u001b[0m\n\u001b[0m\u001b[1;32m    804\u001b[0m         \u001b[0;32mexcept\u001b[0m \u001b[0mzmq\u001b[0m\u001b[0;34m.\u001b[0m\u001b[0mZMQError\u001b[0m \u001b[0;32mas\u001b[0m \u001b[0me\u001b[0m\u001b[0;34m:\u001b[0m\u001b[0;34m\u001b[0m\u001b[0;34m\u001b[0m\u001b[0m\n",
      "\u001b[0;32m~/opt/anaconda3/lib/python3.7/site-packages/zmq/sugar/socket.py\u001b[0m in \u001b[0;36mrecv_multipart\u001b[0;34m(self, flags, copy, track)\u001b[0m\n\u001b[1;32m    474\u001b[0m         \"\"\"\n\u001b[0;32m--> 475\u001b[0;31m         \u001b[0mparts\u001b[0m \u001b[0;34m=\u001b[0m \u001b[0;34m[\u001b[0m\u001b[0mself\u001b[0m\u001b[0;34m.\u001b[0m\u001b[0mrecv\u001b[0m\u001b[0;34m(\u001b[0m\u001b[0mflags\u001b[0m\u001b[0;34m,\u001b[0m \u001b[0mcopy\u001b[0m\u001b[0;34m=\u001b[0m\u001b[0mcopy\u001b[0m\u001b[0;34m,\u001b[0m \u001b[0mtrack\u001b[0m\u001b[0;34m=\u001b[0m\u001b[0mtrack\u001b[0m\u001b[0;34m)\u001b[0m\u001b[0;34m]\u001b[0m\u001b[0;34m\u001b[0m\u001b[0;34m\u001b[0m\u001b[0m\n\u001b[0m\u001b[1;32m    476\u001b[0m         \u001b[0;31m# have first part already, only loop while more to receive\u001b[0m\u001b[0;34m\u001b[0m\u001b[0;34m\u001b[0m\u001b[0;34m\u001b[0m\u001b[0m\n",
      "\u001b[0;32mzmq/backend/cython/socket.pyx\u001b[0m in \u001b[0;36mzmq.backend.cython.socket.Socket.recv\u001b[0;34m()\u001b[0m\n",
      "\u001b[0;32mzmq/backend/cython/socket.pyx\u001b[0m in \u001b[0;36mzmq.backend.cython.socket.Socket.recv\u001b[0;34m()\u001b[0m\n",
      "\u001b[0;32mzmq/backend/cython/socket.pyx\u001b[0m in \u001b[0;36mzmq.backend.cython.socket._recv_copy\u001b[0;34m()\u001b[0m\n",
      "\u001b[0;32m~/opt/anaconda3/lib/python3.7/site-packages/zmq/backend/cython/checkrc.pxd\u001b[0m in \u001b[0;36mzmq.backend.cython.checkrc._check_rc\u001b[0;34m()\u001b[0m\n",
      "\u001b[0;31mKeyboardInterrupt\u001b[0m: ",
      "\nDuring handling of the above exception, another exception occurred:\n",
      "\u001b[0;31mKeyboardInterrupt\u001b[0m                         Traceback (most recent call last)",
      "\u001b[0;32m<ipython-input-86-76717b90ac4f>\u001b[0m in \u001b[0;36m<module>\u001b[0;34m\u001b[0m\n\u001b[1;32m      8\u001b[0m     \u001b[0mprint\u001b[0m\u001b[0;34m(\u001b[0m\u001b[0;34m'[1] View Nation List'\u001b[0m\u001b[0;34m)\u001b[0m\u001b[0;34m\u001b[0m\u001b[0;34m\u001b[0m\u001b[0m\n\u001b[1;32m      9\u001b[0m \u001b[0;34m\u001b[0m\u001b[0m\n\u001b[0;32m---> 10\u001b[0;31m     \u001b[0mselection\u001b[0m \u001b[0;34m=\u001b[0m \u001b[0mint\u001b[0m\u001b[0;34m(\u001b[0m\u001b[0minput\u001b[0m\u001b[0;34m(\u001b[0m\u001b[0;34m'Please chose an option \\n'\u001b[0m\u001b[0;34m)\u001b[0m\u001b[0;34m)\u001b[0m\u001b[0;34m\u001b[0m\u001b[0;34m\u001b[0m\u001b[0m\n\u001b[0m\u001b[1;32m     11\u001b[0m \u001b[0;34m\u001b[0m\u001b[0m\n\u001b[1;32m     12\u001b[0m     \u001b[0;32mif\u001b[0m \u001b[0minput\u001b[0m \u001b[0;34m==\u001b[0m \u001b[0;36m1\u001b[0m\u001b[0;34m:\u001b[0m\u001b[0;34m\u001b[0m\u001b[0;34m\u001b[0m\u001b[0m\n",
      "\u001b[0;32m~/opt/anaconda3/lib/python3.7/site-packages/ipykernel/kernelbase.py\u001b[0m in \u001b[0;36mraw_input\u001b[0;34m(self, prompt)\u001b[0m\n\u001b[1;32m    857\u001b[0m             \u001b[0mself\u001b[0m\u001b[0;34m.\u001b[0m\u001b[0m_parent_ident\u001b[0m\u001b[0;34m,\u001b[0m\u001b[0;34m\u001b[0m\u001b[0;34m\u001b[0m\u001b[0m\n\u001b[1;32m    858\u001b[0m             \u001b[0mself\u001b[0m\u001b[0;34m.\u001b[0m\u001b[0m_parent_header\u001b[0m\u001b[0;34m,\u001b[0m\u001b[0;34m\u001b[0m\u001b[0;34m\u001b[0m\u001b[0m\n\u001b[0;32m--> 859\u001b[0;31m             \u001b[0mpassword\u001b[0m\u001b[0;34m=\u001b[0m\u001b[0;32mFalse\u001b[0m\u001b[0;34m,\u001b[0m\u001b[0;34m\u001b[0m\u001b[0;34m\u001b[0m\u001b[0m\n\u001b[0m\u001b[1;32m    860\u001b[0m         )\n\u001b[1;32m    861\u001b[0m \u001b[0;34m\u001b[0m\u001b[0m\n",
      "\u001b[0;32m~/opt/anaconda3/lib/python3.7/site-packages/ipykernel/kernelbase.py\u001b[0m in \u001b[0;36m_input_request\u001b[0;34m(self, prompt, ident, parent, password)\u001b[0m\n\u001b[1;32m    887\u001b[0m             \u001b[0;32mexcept\u001b[0m \u001b[0mKeyboardInterrupt\u001b[0m\u001b[0;34m:\u001b[0m\u001b[0;34m\u001b[0m\u001b[0;34m\u001b[0m\u001b[0m\n\u001b[1;32m    888\u001b[0m                 \u001b[0;31m# re-raise KeyboardInterrupt, to truncate traceback\u001b[0m\u001b[0;34m\u001b[0m\u001b[0;34m\u001b[0m\u001b[0;34m\u001b[0m\u001b[0m\n\u001b[0;32m--> 889\u001b[0;31m                 \u001b[0;32mraise\u001b[0m \u001b[0mKeyboardInterrupt\u001b[0m\u001b[0;34m\u001b[0m\u001b[0;34m\u001b[0m\u001b[0m\n\u001b[0m\u001b[1;32m    890\u001b[0m             \u001b[0;32melse\u001b[0m\u001b[0;34m:\u001b[0m\u001b[0;34m\u001b[0m\u001b[0;34m\u001b[0m\u001b[0m\n\u001b[1;32m    891\u001b[0m                 \u001b[0;32mbreak\u001b[0m\u001b[0;34m\u001b[0m\u001b[0;34m\u001b[0m\u001b[0m\n",
      "\u001b[0;31mKeyboardInterrupt\u001b[0m: "
     ]
    }
   ],
   "source": [
    "\n",
    "\n",
    "# ---------------------------------------------------------------------\n",
    "#           MENU\n",
    "# ---------------------------------------------------------------------\n",
    "\n",
    "selection = ''\n",
    "while selection != 'Done':\n",
    "    print('*****************MENU*******************')\n",
    "    print('[1] View Nation List')\n",
    "    \n",
    "    selection = int(input('Please chose an option \\n'))\n",
    "    \n",
    "    if input == 1:\n",
    "        for nation in NATION_ARRAY:\n",
    "            print(nation[1])"
   ]
  },
  {
   "cell_type": "code",
   "execution_count": 63,
   "metadata": {},
   "outputs": [],
   "source": [
    "def trade(NATION_ARRAY, index):\n",
    "    print('Trade Level up!')\n",
    "    \n",
    "    \n",
    "    temp_array = NATION_ARRAY[:]\n",
    "    temp_array.pop(index)\n",
    "    \n",
    "\n",
    "\n",
    "\n",
    "def main(year):\n",
    "    year = year + 1\n",
    "    print('xxxxxxxxxxxxxxxxxxxxxxxxxxxxxxxxxxxxxxxx')\n",
    "    print('x               ' + str(year) + '                   x')\n",
    "    print('xxxxxxxxxxxxxxxxxxxxxxxxxxxxxxxxxxxxxxxx')"
   ]
  },
  {
   "cell_type": "code",
   "execution_count": 64,
   "metadata": {},
   "outputs": [
    {
     "name": "stdout",
     "output_type": "stream",
     "text": [
      "xxxxxxxxxxxxxxxxxxxxxxxxxxxxxxxxxxxxxxxx\n",
      "x               1950                   x\n",
      "xxxxxxxxxxxxxxxxxxxxxxxxxxxxxxxxxxxxxxxx\n"
     ]
    }
   ],
   "source": [
    "main(year)"
   ]
  },
  {
   "cell_type": "code",
   "execution_count": 77,
   "metadata": {},
   "outputs": [
    {
     "data": {
      "text/plain": [
       "[[6, 10], 'CHINA']"
      ]
     },
     "execution_count": 77,
     "metadata": {},
     "output_type": "execute_result"
    }
   ],
   "source": [
    "temp_array = NATION_ARRAY[:]\n",
    "temp_array.pop(1)"
   ]
  },
  {
   "cell_type": "code",
   "execution_count": 78,
   "metadata": {},
   "outputs": [
    {
     "data": {
      "text/plain": [
       "[[[10, 8], 'USA'],\n",
       " [[2, 4], 'INDIA'],\n",
       " [[1, 8], 'RUSSIA'],\n",
       " [[2, 8], 'GERMANY'],\n",
       " [[2, 8], 'FRANCE'],\n",
       " [[3, 2], 'JAPAN'],\n",
       " [[1, 8], 'BRAZIL'],\n",
       " [[1, 8], 'SOUTHKOREA'],\n",
       " [[1, 8], 'SOUTHAFRICA']]"
      ]
     },
     "execution_count": 78,
     "metadata": {},
     "output_type": "execute_result"
    }
   ],
   "source": [
    "temp_array\n"
   ]
  },
  {
   "cell_type": "code",
   "execution_count": 79,
   "metadata": {},
   "outputs": [
    {
     "data": {
      "text/plain": [
       "[[[10, 8], 'USA'],\n",
       " [[6, 10], 'CHINA'],\n",
       " [[2, 4], 'INDIA'],\n",
       " [[1, 8], 'RUSSIA'],\n",
       " [[2, 8], 'GERMANY'],\n",
       " [[2, 8], 'FRANCE'],\n",
       " [[3, 2], 'JAPAN'],\n",
       " [[1, 8], 'BRAZIL'],\n",
       " [[1, 8], 'SOUTHKOREA'],\n",
       " [[1, 8], 'SOUTHAFRICA']]"
      ]
     },
     "execution_count": 79,
     "metadata": {},
     "output_type": "execute_result"
    }
   ],
   "source": [
    "NATION_ARRAY"
   ]
  },
  {
   "cell_type": "code",
   "execution_count": 99,
   "metadata": {},
   "outputs": [
    {
     "name": "stdout",
     "output_type": "stream",
     "text": [
      "**rustle**....**clunk** ...\"oh not again!\" \n",
      "Unknown Person: ....wait... \n",
      "Unknown Person: ..who the hell are you? How did you get in here? ... \n",
      "Enter your name \n",
      "Adam\n",
      " \n",
      "Adam: ... im Adam\n",
      "Unknown Person: ah, so YOU are the one. \n",
      "Unknown Person: its truly an honour to meet you Adam please know that we all appreciate your sacrifice  \n",
      "Unknown Person: are you ready?  \n",
      " \n",
      " Press any key to start..\n",
      "Unknown Person: executing dynamic cascade sequence now, this should feel... uh..errr..  \n",
      " ....a little weird \n",
      " "
     ]
    }
   ],
   "source": [
    "assistant = 'Unknown Person: '\n",
    "fast_print('**rustle**....**clunk** ...\"oh not again!\" \\n')\n",
    "fast_print(str(assistant) + '....wait... \\n')\n",
    "time.sleep(0.2)\n",
    "fast_print(str(assistant) +'..who the hell are you? How did you get in here? ... \\n')\n",
    "\n",
    "userName = input('Enter your name \\n')\n",
    "print(' ')\n",
    "med_print(str(userName) + ': ... im ' + str(userName) + '\\n')\n",
    "\n",
    "fast_print(str(assistant) + 'ah, so YOU are the one. \\n')\n",
    "fast_print(str(assistant) + 'its truly an honour to meet you ' + str(userName) +  ' please know that we all appreciate your sacrifice  \\n')\n",
    "fast_print(str(assistant) + 'are you ready?  \\n ')\n",
    "print('')\n",
    "input(' Press any key to start..')\n",
    "fast_print(str(assistant) + 'executing dynamic cascade sequence now, this should feel... uh..errr..  \\n ')\n",
    "time.sleep(0.2)\n",
    "fast_print('....a little weird \\n ')\n",
    "\n"
   ]
  },
  {
   "cell_type": "code",
   "execution_count": 90,
   "metadata": {},
   "outputs": [
    {
     "data": {
      "text/plain": [
       "[[1, 8], 'SOUTHAFRICA']"
      ]
     },
     "execution_count": 90,
     "metadata": {},
     "output_type": "execute_result"
    }
   ],
   "source": [
    "NATION_ARRAY[9]"
   ]
  },
  {
   "cell_type": "code",
   "execution_count": null,
   "metadata": {},
   "outputs": [],
   "source": []
  }
 ],
 "metadata": {
  "kernelspec": {
   "display_name": "Python 3",
   "language": "python",
   "name": "python3"
  },
  "language_info": {
   "codemirror_mode": {
    "name": "ipython",
    "version": 3
   },
   "file_extension": ".py",
   "mimetype": "text/x-python",
   "name": "python",
   "nbconvert_exporter": "python",
   "pygments_lexer": "ipython3",
   "version": "3.7.6"
  }
 },
 "nbformat": 4,
 "nbformat_minor": 4
}
