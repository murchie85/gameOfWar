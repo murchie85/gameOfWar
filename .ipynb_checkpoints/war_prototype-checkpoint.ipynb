{
 "cells": [
  {
   "cell_type": "code",
   "execution_count": 24,
   "metadata": {},
   "outputs": [],
   "source": [
    "\n",
    "# ARRAY_ORDER = [TOTALSCORE, TRADESCORE]\n",
    "maxPP = 23210\n",
    "maxGDP = 19\n",
    "\n",
    "USA           = [round(19 / maxGDP * 10), round(23210 / maxPP * 10)]\n",
    "CHINA         = [round(12 / maxGDP * 10), round(19490 / maxPP * 10)]\n",
    "INDIA         = [round(3 / maxGDP * 10), round(9474 / maxPP * 10)]\n",
    "RUSSIA        = [round(2 / maxGDP * 10), round(19490 / maxPP * 10)]\n",
    "GERMANY       = [round(4 / maxGDP * 10), round(19490 / maxPP * 10)]\n",
    "FRANCE        = [round(3 / maxGDP * 10), round(19490 / maxPP * 10)]\n",
    "JAPAN         = [round(5 / maxGDP * 10), round(5443 / maxPP * 10)]\n",
    "BRAZIL        = [round(2 / maxGDP * 10), round(19490 / maxPP * 10)]\n",
    "SOUTHKOREA    = [round(2 / maxGDP * 10), round(19490 / maxPP * 10)]\n",
    "SOUTHAFRICA   =  [round(1 / maxGDP * 10), round(19490 / maxPP * 10)]\n",
    "\n",
    "NATION_ARRAY = [[USA,'USA'],[CHINA,'CHINA'],[INDIA,'INDIA'],[RUSSIA,'RUSSIA'],[GERMANY,'GERMANY'],[FRANCE,'FRANCE'],[JAPAN,'JAPAN'],[BRAZIL,'BRAZIL'],[SOUTHKOREA,'SOUTHKOREA'],[SOUTHAFRICA,'SOUTHAFRICA']]\n",
    "# TRADE INITIALISED BY PP\n",
    "# TOTAL INITIALISED BY GDP\n",
    "\n",
    "\n"
   ]
  },
  {
   "cell_type": "code",
   "execution_count": 25,
   "metadata": {},
   "outputs": [
    {
     "name": "stdout",
     "output_type": "stream",
     "text": [
      "[[10, 10], 'USA']\n",
      "[[6, 8], 'CHINA']\n",
      "[[2, 4], 'INDIA']\n",
      "[[1, 8], 'RUSSIA']\n",
      "[[2, 8], 'GERMANY']\n",
      "[[2, 8], 'FRANCE']\n",
      "[[3, 2], 'JAPAN']\n",
      "[[1, 8], 'BRAZIL']\n",
      "[[1, 8], 'SOUTHKOREA']\n",
      "[[1, 8], 'SOUTHAFRICA']\n"
     ]
    }
   ],
   "source": [
    "for nation in NATION_ARRAY:\n",
    "    print(nation)\n",
    "\n"
   ]
  },
  {
   "cell_type": "code",
   "execution_count": 35,
   "metadata": {},
   "outputs": [
    {
     "data": {
      "text/plain": [
       "15.789473684210526"
      ]
     },
     "execution_count": 35,
     "metadata": {},
     "output_type": "execute_result"
    }
   ],
   "source": []
  },
  {
   "cell_type": "code",
   "execution_count": null,
   "metadata": {},
   "outputs": [],
   "source": []
  }
 ],
 "metadata": {
  "kernelspec": {
   "display_name": "Python 3",
   "language": "python",
   "name": "python3"
  },
  "language_info": {
   "codemirror_mode": {
    "name": "ipython",
    "version": 3
   },
   "file_extension": ".py",
   "mimetype": "text/x-python",
   "name": "python",
   "nbconvert_exporter": "python",
   "pygments_lexer": "ipython3",
   "version": "3.7.6"
  }
 },
 "nbformat": 4,
 "nbformat_minor": 4
}
