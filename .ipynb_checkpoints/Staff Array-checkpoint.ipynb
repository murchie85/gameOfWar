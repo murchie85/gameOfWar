{
 "cells": [
  {
   "cell_type": "code",
   "execution_count": null,
   "metadata": {},
   "outputs": [],
   "source": [
    "import random\n",
    "\n",
    "first = open(\"assets/staff/first.txt\", \"r\")\n",
    "first = first.read().split('\\n')\n",
    "\n",
    "last = open(\"assets/staff/last.txt\", \"r\")\n",
    "last = last.read().split('\\n')"
   ]
  },
  {
   "cell_type": "code",
   "execution_count": null,
   "metadata": {
    "scrolled": true
   },
   "outputs": [],
   "source": [
    "first = random.choice(first)\n",
    "last = random.choice(last)"
   ]
  },
  {
   "cell_type": "code",
   "execution_count": null,
   "metadata": {},
   "outputs": [],
   "source": [
    "StaffShopArray = {'Finance':[],'War':[], 'tech':[], 'politics':[]}"
   ]
  },
  {
   "cell_type": "code",
   "execution_count": null,
   "metadata": {},
   "outputs": [],
   "source": [
    "[profession,name,level]"
   ]
  },
  {
   "cell_type": "code",
   "execution_count": null,
   "metadata": {},
   "outputs": [],
   "source": [
    "title = ['Doctor','Professor',]\n",
    "for x in range(0,1000):\n"
   ]
  },
  {
   "cell_type": "code",
   "execution_count": 1,
   "metadata": {},
   "outputs": [],
   "source": [
    "from gameSetVariables      import setVariables\n",
    "WAR_BRIEFING = {'weapons':{\n",
    "\t\n",
    "\t'INDUSTRIAL REVOLUTION':{'1':['Conscripts',1,10,2,0.01],     '2':['Cavalry',2,300,2,0.1],       '3':['Cannon Specialists',10,100,2,0.005],'4':['Special-Ops',15,2000,3,0.1],    '5':['MiniSubs',25,20000,4,1],   '6':['Steam Warships',150,5000,2,0.3],'7':['Iron-clad Battleships',300,7000,3,0.35],'8':['Airships',350,100000,4,5]},\n",
    "\t'INFORMATION AGE':      {'1':['Fiflemen',8,10,2,0.01],       '2':['Tanks',5,300,2,0.1],         '3':['Gunboats',20,100,2,0.005],          '4':['Destroyers',50,2000,3,0.1],     '5':['Carriers',40,20000,4,1],   '6':['Jets',200,5000,2,0.3],          '7':['Bombers',350,7000,3,0.35],              '8':['Nukes',500,100000,4,5]},\n",
    "\t'SECOND ENLIGHTENMENT': {'1':['Laser Infantry',20,10,2,0.01],'2':['Mech Troopers',10,300,2,0.1],'3':['Naval Swarm',40,100,2,0.005],       '4':['Hybrid Fighters',80,2000,3,0.1],'5':['EMP Drones',100,20000,4,1],'6':['Raptor Drone',250,5000,2,0.3], '7':['Giga Swarm',400,7000,3,0.35],            '8':['Orbital Strike',999,100000,4,5]}\n",
    "} \n",
    "\n",
    "}\n",
    "NATION_ARRAY = setVariables(WAR_BRIEFING)"
   ]
  },
  {
   "cell_type": "code",
   "execution_count": null,
   "metadata": {},
   "outputs": [],
   "source": [
    "NATION_ARRAY[0][0]['War']"
   ]
  },
  {
   "cell_type": "code",
   "execution_count": 16,
   "metadata": {},
   "outputs": [],
   "source": [
    "firstTech    = NATION_ARRAY[0][0]['Tech']['researched']['one'][2]\n",
    "secondTech   = NATION_ARRAY[0][0]['Tech']['researched']['two'][2]\n",
    "thirdTech    = NATION_ARRAY[0][0]['Tech']['researched']['three'][2]\n",
    "fourthTech   = NATION_ARRAY[0][0]['Tech']['researched']['four'][2]\n",
    "fifthTech    = NATION_ARRAY[0][0]['Tech']['researched']['five'][2]\n",
    "allowedAssets = []\n",
    "if firstTech > -1:\n",
    "    allowedAssets.append('1')\n",
    "if firstTech > 99:\n",
    "    allowedAssets.append('2')\n",
    "if secondTech > 99:\n",
    "    allowedAssets.append('3')\n",
    "if thirdTech > 99:\n",
    "    allowedAssets.append('4')\n",
    "    allowedAssets.append('5')\n",
    "if fourthTech > 99:\n",
    "    allowedAssets.append('6')\n",
    "    allowedAssets.append('7')\n",
    "if fifthTech > 99:\n",
    "    allowedAssets.append('8')\n"
   ]
  },
  {
   "cell_type": "code",
   "execution_count": 17,
   "metadata": {},
   "outputs": [
    {
     "data": {
      "text/plain": [
       "['1', '2', '3', ('4', '5')]"
      ]
     },
     "execution_count": 17,
     "metadata": {},
     "output_type": "execute_result"
    }
   ],
   "source": [
    "granted"
   ]
  },
  {
   "cell_type": "code",
   "execution_count": 23,
   "metadata": {},
   "outputs": [
    {
     "ename": "NameError",
     "evalue": "name 'i' is not defined",
     "output_type": "error",
     "traceback": [
      "\u001b[0;31m---------------------------------------------------------------------------\u001b[0m",
      "\u001b[0;31mNameError\u001b[0m                                 Traceback (most recent call last)",
      "\u001b[0;32m<ipython-input-23-e25c20316b24>\u001b[0m in \u001b[0;36m<module>\u001b[0;34m\u001b[0m\n\u001b[0;32m----> 1\u001b[0;31m \u001b[0mi\u001b[0m \u001b[0;32min\u001b[0m \u001b[0mallowedAssets\u001b[0m\u001b[0;34m\u001b[0m\u001b[0;34m\u001b[0m\u001b[0m\n\u001b[0m",
      "\u001b[0;31mNameError\u001b[0m: name 'i' is not defined"
     ]
    }
   ],
   "source": [
    "i in allowedAssets"
   ]
  },
  {
   "cell_type": "code",
   "execution_count": null,
   "metadata": {},
   "outputs": [],
   "source": [
    "NATION_ARRAY[0][0]['War']['might']"
   ]
  },
  {
   "cell_type": "code",
   "execution_count": null,
   "metadata": {},
   "outputs": [],
   "source": [
    "quantityTotal"
   ]
  },
  {
   "cell_type": "code",
   "execution_count": null,
   "metadata": {},
   "outputs": [],
   "source": [
    "unit = '1'"
   ]
  },
  {
   "cell_type": "code",
   "execution_count": null,
   "metadata": {},
   "outputs": [],
   "source": [
    "[unit]"
   ]
  },
  {
   "cell_type": "code",
   "execution_count": null,
   "metadata": {},
   "outputs": [],
   "source": []
  }
 ],
 "metadata": {
  "kernelspec": {
   "display_name": "Python 3",
   "language": "python",
   "name": "python3"
  },
  "language_info": {
   "codemirror_mode": {
    "name": "ipython",
    "version": 3
   },
   "file_extension": ".py",
   "mimetype": "text/x-python",
   "name": "python",
   "nbconvert_exporter": "python",
   "pygments_lexer": "ipython3",
   "version": "3.7.6"
  }
 },
 "nbformat": 4,
 "nbformat_minor": 4
}
