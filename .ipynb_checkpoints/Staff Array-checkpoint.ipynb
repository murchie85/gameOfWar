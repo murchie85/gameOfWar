{
 "cells": [
  {
   "cell_type": "code",
   "execution_count": 3,
   "metadata": {},
   "outputs": [],
   "source": [
    "import random\n",
    "\n",
    "first = open(\"assets/staff/first.txt\", \"r\")\n",
    "first = first.read().split('\\n')\n",
    "\n",
    "last = open(\"assets/staff/last.txt\", \"r\")\n",
    "last = last.read().split('\\n')"
   ]
  },
  {
   "cell_type": "code",
   "execution_count": 2,
   "metadata": {
    "scrolled": true
   },
   "outputs": [],
   "source": [
    "first = random.choice(first)\n",
    "last = random.choice(last)"
   ]
  },
  {
   "cell_type": "code",
   "execution_count": 3,
   "metadata": {},
   "outputs": [],
   "source": [
    "StaffShopArray = {'Finance':[],'War':[], 'tech':[], 'politics':[]}"
   ]
  },
  {
   "cell_type": "code",
   "execution_count": 4,
   "metadata": {},
   "outputs": [
    {
     "ename": "NameError",
     "evalue": "name 'profession' is not defined",
     "output_type": "error",
     "traceback": [
      "\u001b[0;31m---------------------------------------------------------------------------\u001b[0m",
      "\u001b[0;31mNameError\u001b[0m                                 Traceback (most recent call last)",
      "\u001b[0;32m<ipython-input-4-5a64549ce0ab>\u001b[0m in \u001b[0;36m<module>\u001b[0;34m\u001b[0m\n\u001b[0;32m----> 1\u001b[0;31m \u001b[0;34m[\u001b[0m\u001b[0mprofession\u001b[0m\u001b[0;34m,\u001b[0m\u001b[0mname\u001b[0m\u001b[0;34m,\u001b[0m\u001b[0mlevel\u001b[0m\u001b[0;34m]\u001b[0m\u001b[0;34m\u001b[0m\u001b[0;34m\u001b[0m\u001b[0m\n\u001b[0m",
      "\u001b[0;31mNameError\u001b[0m: name 'profession' is not defined"
     ]
    }
   ],
   "source": [
    "[profession,name,level]"
   ]
  },
  {
   "cell_type": "code",
   "execution_count": 168,
   "metadata": {},
   "outputs": [
    {
     "ename": "SyntaxError",
     "evalue": "unexpected EOF while parsing (<ipython-input-168-5c8d4055b1a7>, line 2)",
     "output_type": "error",
     "traceback": [
      "\u001b[0;36m  File \u001b[0;32m\"<ipython-input-168-5c8d4055b1a7>\"\u001b[0;36m, line \u001b[0;32m2\u001b[0m\n\u001b[0;31m    for x in range(0,1000):\u001b[0m\n\u001b[0m                           ^\u001b[0m\n\u001b[0;31mSyntaxError\u001b[0m\u001b[0;31m:\u001b[0m unexpected EOF while parsing\n"
     ]
    }
   ],
   "source": [
    "title = ['Doctor','Professor',]\n",
    "for x in range(0,1000):\n"
   ]
  },
  {
   "cell_type": "code",
   "execution_count": 3,
   "metadata": {},
   "outputs": [],
   "source": [
    "from gameSetVariables      import setVariables\n",
    "WAR_BRIEFING = {'weapons':{'troops':(10,2,0.01),'tanks':(300,2,0.1),'gunboats':(100,2,0.005),'destroyers':(2000,3,0.1),'carriers':(20000,4,1),'jets':(5000,2,0.3),'bombers':(7000,3,0.35),'Nukes':(100000,4,5)}}\n",
    "NATION_ARRAY = setVariables(WAR_BRIEFING)\n",
    "friendshipArray = []"
   ]
  },
  {
   "cell_type": "code",
   "execution_count": 46,
   "metadata": {},
   "outputs": [],
   "source": [
    "friendList = []\n",
    "friendshipArray = []\n",
    "for x in range(0,2):\n",
    "    for friend in NATION_ARRAY[0][0]['Friendship']:\n",
    "        friendshipArray.append((NATION_ARRAY[0][0]['Friendship'][friend]['level'],friend))\n",
    "        \n",
    "    allyValue =  max(friendshipArray,key=lambda item:item[0])[0]\n",
    "    allyKey   =  max(friendshipArray,key=lambda item:item[0])[1]\n",
    "    allyIndex = friendshipArray.index((allyValue,allyKey))\n"
   ]
  },
  {
   "cell_type": "code",
   "execution_count": 39,
   "metadata": {},
   "outputs": [
    {
     "name": "stdout",
     "output_type": "stream",
     "text": [
      "invest\n"
     ]
    }
   ],
   "source": [
    "if NATION_ARRAY[0][0]['Friendship'][allyKey]['level'] > 30:\n",
    "    print('invest')"
   ]
  },
  {
   "cell_type": "code",
   "execution_count": 49,
   "metadata": {},
   "outputs": [
    {
     "data": {
      "text/plain": [
       "(49, 'INDONESIA')"
      ]
     },
     "execution_count": 49,
     "metadata": {},
     "output_type": "execute_result"
    }
   ],
   "source": [
    "friendshipArray.pop(allyIndex)"
   ]
  },
  {
   "cell_type": "code",
   "execution_count": 51,
   "metadata": {},
   "outputs": [
    {
     "data": {
      "text/plain": [
       "[(-6, 'UK'),\n",
       " (13, 'GERMANY'),\n",
       " (5, 'CHINA'),\n",
       " (33, 'INDIA'),\n",
       " (38, 'RUSSIA'),\n",
       " (21, 'ITALY'),\n",
       " (20, 'SPAIN'),\n",
       " (38, 'FRANCE'),\n",
       " (26, 'JAPAN'),\n",
       " (35, 'BRAZIL'),\n",
       " (13, 'SOUTHKOREA'),\n",
       " (12, 'SOUTHAFRICA'),\n",
       " (38, 'PAKISTAN'),\n",
       " (23, 'NIGERIA'),\n",
       " (16, 'MEXICO'),\n",
       " (24, 'EGYPT'),\n",
       " (2, 'VIETNAM'),\n",
       " (40, 'IRAN'),\n",
       " (32, 'KENYA')]"
      ]
     },
     "execution_count": 51,
     "metadata": {},
     "output_type": "execute_result"
    }
   ],
   "source": [
    "friendshipArray"
   ]
  },
  {
   "cell_type": "code",
   "execution_count": 28,
   "metadata": {},
   "outputs": [
    {
     "data": {
      "text/plain": [
       "'INDONESIA'"
      ]
     },
     "execution_count": 28,
     "metadata": {},
     "output_type": "execute_result"
    }
   ],
   "source": [
    " max(friendshipArray,key=lambda item:item[0])[1]"
   ]
  },
  {
   "cell_type": "code",
   "execution_count": 34,
   "metadata": {},
   "outputs": [
    {
     "data": {
      "text/plain": [
       "{'level': 49,\n",
       " 'warDate': 0,\n",
       " 'initiated': 0,\n",
       " 'noWars': 0,\n",
       " 'declared': 0,\n",
       " 'attacked': 0,\n",
       " 'lost': 0,\n",
       " 'won': 0}"
      ]
     },
     "execution_count": 34,
     "metadata": {},
     "output_type": "execute_result"
    }
   ],
   "source": [
    "NATION_ARRAY[0][0]['Friendship'][allyKey]"
   ]
  },
  {
   "cell_type": "code",
   "execution_count": 33,
   "metadata": {},
   "outputs": [
    {
     "data": {
      "text/plain": [
       "'INDONESIA'"
      ]
     },
     "execution_count": 33,
     "metadata": {},
     "output_type": "execute_result"
    }
   ],
   "source": [
    "allyKey"
   ]
  },
  {
   "cell_type": "code",
   "execution_count": null,
   "metadata": {},
   "outputs": [],
   "source": []
  }
 ],
 "metadata": {
  "kernelspec": {
   "display_name": "Python 3",
   "language": "python",
   "name": "python3"
  },
  "language_info": {
   "codemirror_mode": {
    "name": "ipython",
    "version": 3
   },
   "file_extension": ".py",
   "mimetype": "text/x-python",
   "name": "python",
   "nbconvert_exporter": "python",
   "pygments_lexer": "ipython3",
   "version": "3.7.6"
  }
 },
 "nbformat": 4,
 "nbformat_minor": 4
}
